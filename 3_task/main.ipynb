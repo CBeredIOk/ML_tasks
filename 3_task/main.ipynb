{
 "cells": [
  {
   "cell_type": "code",
   "execution_count": 148,
   "metadata": {},
   "outputs": [],
   "source": [
    "import time\n",
    "import numpy as np\n",
    "import pandas as pd\n",
    "\n",
    "from numpy.linalg import norm\n",
    "\n",
    "from sklearn.svm import SVC\n",
    "from sklearn.tree import DecisionTreeClassifier\n",
    "from sklearn.linear_model import LogisticRegression\n",
    "\n",
    "from sklearn import datasets\n",
    "from sklearn.model_selection import train_test_split\n",
    "from sklearn.metrics import accuracy_score, roc_auc_score\n",
    "\n",
    "from sklearn.manifold import TSNE \n",
    "from sklearn.decomposition import PCA"
   ]
  },
  {
   "cell_type": "markdown",
   "metadata": {},
   "source": [
    "## Загрузка датасета:"
   ]
  },
  {
   "cell_type": "code",
   "execution_count": 149,
   "metadata": {},
   "outputs": [],
   "source": [
    "df = datasets.load_digits()\n",
    "X = df.data\n",
    "y = df.target"
   ]
  },
  {
   "cell_type": "markdown",
   "metadata": {},
   "source": [
    "## Создание необходимых моделей и преобразователей:"
   ]
  },
  {
   "cell_type": "code",
   "execution_count": 150,
   "metadata": {},
   "outputs": [],
   "source": [
    "models = {\n",
    "    'SVC': SVC(random_state=random_state),\n",
    "    'DecisionTreeClassifier': DecisionTreeClassifier(random_state=random_state),\n",
    "    'LogisticRegression' : LogisticRegression(max_iter=10000, random_state=random_state),\n",
    "}"
   ]
  },
  {
   "cell_type": "code",
   "execution_count": 151,
   "metadata": {},
   "outputs": [],
   "source": [
    "transformers = {\n",
    "    'PCA': PCA(n_components=0.90, random_state=random_state),\n",
    "    't-SNE': TSNE(n_components=2, random_state=random_state)\n",
    "}"
   ]
  },
  {
   "cell_type": "markdown",
   "metadata": {},
   "source": [
    "### Константы"
   ]
  },
  {
   "cell_type": "code",
   "execution_count": 152,
   "metadata": {},
   "outputs": [],
   "source": [
    "RANDOM_STATE = 42\n",
    "TEST_SIZE = 0.2"
   ]
  },
  {
   "cell_type": "markdown",
   "metadata": {},
   "source": [
    "## Обучение модели и получение предиктов (без уменьшения размерности):"
   ]
  },
  {
   "cell_type": "code",
   "execution_count": 153,
   "metadata": {},
   "outputs": [],
   "source": [
    "X_train, X_test, y_train, y_test = train_test_split(X, y, test_size=TEST_SIZE, random_state=RANDOM_STATE, stratify=y)\n",
    "\n",
    "predicts = {}\n",
    "for model_name, model in models.items():\n",
    "    model.fit(X_train, y_train)\n",
    "    predicts[model_name] = model.predict(X_test)"
   ]
  },
  {
   "cell_type": "markdown",
   "metadata": {},
   "source": [
    "## Обучение модели и получение предиктов (с уменьшением размерности):"
   ]
  },
  {
   "cell_type": "code",
   "execution_count": 154,
   "metadata": {},
   "outputs": [],
   "source": [
    "processing_time = {}\n",
    "transformed_predicts = {}"
   ]
  },
  {
   "cell_type": "code",
   "execution_count": 155,
   "metadata": {},
   "outputs": [],
   "source": [
    "# Соответственно для прогона fit и predict на разных моделях из models\n",
    "def get_fit_predict(X_train, X_test, transformed_predicts: dict, trans_name: str) -> dict:\n",
    "    for model_name, model in models.items():\n",
    "        model.fit(X_train, y_train)\n",
    "        transformed_predicts[trans_name][model_name] = model.predict(X_test)\n",
    "    return transformed_predicts"
   ]
  },
  {
   "cell_type": "markdown",
   "metadata": {},
   "source": [
    "### PCA"
   ]
  },
  {
   "cell_type": "code",
   "execution_count": 156,
   "metadata": {},
   "outputs": [],
   "source": [
    "X_train, X_test, y_train, y_test = train_test_split(X, y, test_size=TEST_SIZE, random_state=RANDOM_STATE, stratify=y)\n",
    "\n",
    "trans_name = 'PCA'\n",
    "\n",
    "transformed_predicts[trans_name] = {}\n",
    "\n",
    "start_time = time.time()\n",
    "transformers[trans_name].fit(X_train)\n",
    "X_train_transformed = transformers[trans_name].transform(X_train)\n",
    "X_test_transformed = transformers[trans_name].transform(X_test)\n",
    "processing_time[trans_name] = time.time() - start_time\n",
    "\n",
    "transformed_predicts = get_fit_predict(X_train_transformed, X_test_transformed, transformed_predicts, trans_name)"
   ]
  },
  {
   "cell_type": "code",
   "execution_count": 157,
   "metadata": {},
   "outputs": [
    {
     "name": "stdout",
     "output_type": "stream",
     "text": [
      "\n",
      "Чтобы описать 90% дисперсии в PCA необходимо компонентов: 21 шт.\n",
      "\n"
     ]
    }
   ],
   "source": [
    "print(f'\\nЧтобы описать 90% дисперсии в PCA необходимо компонентов: {transformers[\"PCA\"].n_components_} шт.\\n')"
   ]
  },
  {
   "cell_type": "markdown",
   "metadata": {},
   "source": [
    "### t-SNE"
   ]
  },
  {
   "cell_type": "code",
   "execution_count": 158,
   "metadata": {},
   "outputs": [],
   "source": [
    "X_train, X_test, y_train, y_test = train_test_split(X, y, test_size=TEST_SIZE, random_state=RANDOM_STATE, stratify=y)\n",
    "\n",
    "trans_name = 't-SNE'\n",
    "\n",
    "transformed_predicts[trans_name] = {}\n",
    "\n",
    "start_time = time.time()\n",
    "X = transformers[trans_name].fit_transform(X)\n",
    "processing_time[trans_name] = time.time() - start_time\n",
    "\n",
    "X_train, X_test, y_train, y_test = train_test_split(X, y, test_size=TEST_SIZE, random_state=RANDOM_STATE, stratify=y)\n",
    "\n",
    "transformed_predicts = get_fit_predict(X_train, X_test, transformed_predicts, trans_name)"
   ]
  },
  {
   "cell_type": "markdown",
   "metadata": {},
   "source": [
    "## Score результаты:"
   ]
  },
  {
   "cell_type": "code",
   "execution_count": 159,
   "metadata": {},
   "outputs": [],
   "source": [
    "# Для вывода разницы score\n",
    "full_data_score = {}\n",
    "sliced_data_score['PCA'] = {}\n",
    "sliced_data_score['t-SNE'] = {}"
   ]
  },
  {
   "cell_type": "markdown",
   "metadata": {},
   "source": [
    "### Без снижения размерности:"
   ]
  },
  {
   "cell_type": "code",
   "execution_count": 160,
   "metadata": {},
   "outputs": [
    {
     "name": "stdout",
     "output_type": "stream",
     "text": [
      "SVC score:  0.992\n",
      "DecisionTreeClassifier score:  0.825\n",
      "LogisticRegression score:  0.961\n"
     ]
    }
   ],
   "source": [
    "for model_name, predict in predicts.items():\n",
    "    print(f\"{model_name} score: \", round(accuracy_score(y_true=y_test, y_pred=predict), 3))\n",
    "    full_data_score[model_name] = accuracy_score(y_true=y_test, y_pred=predict)"
   ]
  },
  {
   "cell_type": "markdown",
   "metadata": {},
   "source": [
    "### Со снижением размерности:"
   ]
  },
  {
   "cell_type": "code",
   "execution_count": 161,
   "metadata": {},
   "outputs": [
    {
     "name": "stdout",
     "output_type": "stream",
     "text": [
      "\n",
      "PCA\n",
      "\n",
      "SVC score:  0.989\n",
      "DecisionTreeClassifier score:  0.847\n",
      "LogisticRegression score:  0.933\n",
      "\n",
      "t-SNE\n",
      "\n",
      "SVC score:  0.964\n",
      "DecisionTreeClassifier score:  0.975\n",
      "LogisticRegression score:  0.908\n"
     ]
    }
   ],
   "source": [
    "for transformer_name, predicts in transformed_predicts.items():\n",
    "    print(f\"\\n{transformer_name}\\n\")\n",
    "    for model_name, predict in predicts.items():\n",
    "        print(f\"{model_name} score: \", round(accuracy_score(y_true=y_test, y_pred=predict), 3))\n",
    "        sliced_data_score[transformer_name][model_name] = accuracy_score(y_true=y_test, y_pred=predict)"
   ]
  },
  {
   "cell_type": "markdown",
   "metadata": {},
   "source": [
    "### Разница score"
   ]
  },
  {
   "cell_type": "code",
   "execution_count": 162,
   "metadata": {},
   "outputs": [
    {
     "name": "stdout",
     "output_type": "stream",
     "text": [
      "\n",
      "PCA\n",
      "\n",
      "SVC: -0.003\n",
      "DecisionTreeClassifier: 0.022\n",
      "LogisticRegression: -0.028\n",
      "\n",
      "t-SNE\n",
      "\n",
      "SVC: -0.028\n",
      "DecisionTreeClassifier: 0.15\n",
      "LogisticRegression: -0.053\n"
     ]
    }
   ],
   "source": [
    "for transformer_name, predicts in transformed_predicts.items():\n",
    "    print(f\"\\n{transformer_name}\\n\")\n",
    "    for model_name, predict in predicts.items():\n",
    "        diff = sliced_data_score[transformer_name][model_name] - full_data_score[model_name]\n",
    "        print(f\"{model_name}: {round(diff, 3)}\")"
   ]
  },
  {
   "cell_type": "markdown",
   "metadata": {},
   "source": [
    "### Время, требуемое для препроцессинга PCA и t-SNE"
   ]
  },
  {
   "cell_type": "code",
   "execution_count": 163,
   "metadata": {},
   "outputs": [
    {
     "name": "stdout",
     "output_type": "stream",
     "text": [
      "\n",
      "PCA: 0.02 секунд\n",
      "\n",
      "t-SNE: 6.77 секунд\n"
     ]
    }
   ],
   "source": [
    "for transformer_name, time in processing_time.items():\n",
    "    print(f\"\\n{transformer_name}: {round(time, 2)} секунд\")"
   ]
  },
  {
   "cell_type": "markdown",
   "metadata": {},
   "source": [
    "## Итоги:\n",
    "#### PCA для сохранения 90% дисперии необходимо компонентов: \n",
    "##### - 21 шт.\n",
    "#### Лучшие метрики точности моделей классификации:\n",
    "**PCA**\n",
    "- Для **SVC** результаты стали **хуже** на 0.003\n",
    "- Для **DecisionTreeClassifier** результаты стали **лучше** на 0.022\n",
    "- Для **LogisticRegression** результаты также стали **хуже** на 0.028\n",
    "\n",
    "**t-SNE**\n",
    "- Для **SVC** результаты стали **хуже** на 0.028\n",
    "- Для **DecisionTreeClassifier** результаты стали **лучше** на 0.15\n",
    "- Для **LogisticRegression** результаты также стали **хуже** на 0.053\n",
    "\n",
    "То есть, улучшение результатов есть только у модели **DecisionTreeClassifier** и лучше себя показывает алгоритм **t-SNE**\n",
    "#### Время работы алгоритмов уменьшения размерности:\n",
    "- **PCA**: 0.02 сек.\n",
    "- **t-SNE**: 6.77 сек."
   ]
  },
  {
   "cell_type": "code",
   "execution_count": null,
   "metadata": {},
   "outputs": [],
   "source": []
  }
 ],
 "metadata": {
  "kernelspec": {
   "display_name": "Python 3 (ipykernel)",
   "language": "python",
   "name": "python3"
  },
  "language_info": {
   "codemirror_mode": {
    "name": "ipython",
    "version": 3
   },
   "file_extension": ".py",
   "mimetype": "text/x-python",
   "name": "python",
   "nbconvert_exporter": "python",
   "pygments_lexer": "ipython3",
   "version": "3.11.6"
  }
 },
 "nbformat": 4,
 "nbformat_minor": 4
}
