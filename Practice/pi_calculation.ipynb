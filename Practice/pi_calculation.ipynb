{
 "cells": [
  {
   "cell_type": "code",
   "execution_count": 1,
   "id": "0ede1b0f",
   "metadata": {},
   "outputs": [
    {
     "name": "stdout",
     "output_type": "stream",
     "text": [
      "3.1417934\n"
     ]
    }
   ],
   "source": [
    "import numpy as np\n",
    "import pandas as pd\n",
    "import seaborn as sns\n",
    "import matplotlib.pyplot as plt\n",
    "\n",
    "point_in_circle = 0;\n",
    "point_in_all = 100000000\n",
    "\n",
    "x_coordinate = np.random.rand(point_in_all)\n",
    "y_coordinate = np.random.rand(point_in_all)\n",
    "\n",
    "# data = pd.DataFrame({'x': x_coordinate, 'y': y_coordinate})\n",
    "\n",
    "radius = pow((pow(x_coordinate,2) + pow(y_coordinate,2)),1/2)\n",
    "\n",
    "# data['condition'] = np.where(radius > 1, 'A', 'B')\n",
    "\n",
    "for point in radius:\n",
    "    if point <= 1:\n",
    "        point_in_circle += 1\n",
    "\n",
    "pi_number = 4 * point_in_circle/point_in_all\n",
    "\n",
    "print(pi_number)\n",
    "\n",
    "# sns.scatterplot(data=data, x='x', y='y', hue='condition', palette=['red', 'blue'])\n",
    "# plt.xlabel('X')\n",
    "# plt.ylabel('Y')\n",
    "# plt.title('Случайные координаты X и Y')\n",
    "# plt.show()"
   ]
  },
  {
   "cell_type": "code",
   "execution_count": null,
   "id": "e1e9f350",
   "metadata": {},
   "outputs": [],
   "source": []
  }
 ],
 "metadata": {
  "kernelspec": {
   "display_name": "Python 3 (ipykernel)",
   "language": "python",
   "name": "python3"
  },
  "language_info": {
   "codemirror_mode": {
    "name": "ipython",
    "version": 3
   },
   "file_extension": ".py",
   "mimetype": "text/x-python",
   "name": "python",
   "nbconvert_exporter": "python",
   "pygments_lexer": "ipython3",
   "version": "3.11.5"
  }
 },
 "nbformat": 4,
 "nbformat_minor": 5
}
