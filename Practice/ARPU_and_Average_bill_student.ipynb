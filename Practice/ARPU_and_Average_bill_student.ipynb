{
 "cells": [
  {
   "cell_type": "code",
   "execution_count": 23,
   "id": "d499b176",
   "metadata": {
    "tags": []
   },
   "outputs": [],
   "source": [
    "# Импорт библиотек\n",
    "\n",
    "import pandas as pd\n",
    "import matplotlib.pyplot as plt\n",
    "import seaborn as sns\n",
    "import numpy as np\n",
    "\n",
    "import datetime\n",
    "from datetime import datetime, date, time\n",
    "\n",
    "import plotly.express as px\n",
    "from plotly import graph_objects as go\n",
    "\n",
    "import math \n",
    "\n",
    "import warnings\n",
    "warnings.filterwarnings('ignore')"
   ]
  },
  {
   "cell_type": "markdown",
   "id": "0a812bdb-d4b4-46c3-9367-341e12931f2c",
   "metadata": {
    "tags": []
   },
   "source": [
    "### Задание 1.\n",
    "Считать файл Sales_Transaction и вывести первые 7 строк"
   ]
  },
  {
   "cell_type": "code",
   "execution_count": 24,
   "id": "15da8e9e-e01b-4983-a000-f3b347993a25",
   "metadata": {},
   "outputs": [
    {
     "data": {
      "text/html": [
       "<div>\n",
       "<style scoped>\n",
       "    .dataframe tbody tr th:only-of-type {\n",
       "        vertical-align: middle;\n",
       "    }\n",
       "\n",
       "    .dataframe tbody tr th {\n",
       "        vertical-align: top;\n",
       "    }\n",
       "\n",
       "    .dataframe thead th {\n",
       "        text-align: right;\n",
       "    }\n",
       "</style>\n",
       "<table border=\"1\" class=\"dataframe\">\n",
       "  <thead>\n",
       "    <tr style=\"text-align: right;\">\n",
       "      <th></th>\n",
       "      <th>TransactionNo</th>\n",
       "      <th>Date</th>\n",
       "      <th>ProductNo</th>\n",
       "      <th>ProductName</th>\n",
       "      <th>Price</th>\n",
       "      <th>Quantity</th>\n",
       "      <th>CustomerNo</th>\n",
       "      <th>Country</th>\n",
       "    </tr>\n",
       "  </thead>\n",
       "  <tbody>\n",
       "    <tr>\n",
       "      <th>0</th>\n",
       "      <td>581482</td>\n",
       "      <td>12/9/2019</td>\n",
       "      <td>22485</td>\n",
       "      <td>Set Of 2 Wooden Market Crates</td>\n",
       "      <td>21.47</td>\n",
       "      <td>12</td>\n",
       "      <td>17490.0</td>\n",
       "      <td>United Kingdom</td>\n",
       "    </tr>\n",
       "    <tr>\n",
       "      <th>1</th>\n",
       "      <td>581475</td>\n",
       "      <td>12/9/2019</td>\n",
       "      <td>22596</td>\n",
       "      <td>Christmas Star Wish List Chalkboard</td>\n",
       "      <td>10.65</td>\n",
       "      <td>36</td>\n",
       "      <td>13069.0</td>\n",
       "      <td>United Kingdom</td>\n",
       "    </tr>\n",
       "    <tr>\n",
       "      <th>2</th>\n",
       "      <td>581475</td>\n",
       "      <td>12/9/2019</td>\n",
       "      <td>23235</td>\n",
       "      <td>Storage Tin Vintage Leaf</td>\n",
       "      <td>11.53</td>\n",
       "      <td>12</td>\n",
       "      <td>13069.0</td>\n",
       "      <td>United Kingdom</td>\n",
       "    </tr>\n",
       "    <tr>\n",
       "      <th>3</th>\n",
       "      <td>581475</td>\n",
       "      <td>12/9/2019</td>\n",
       "      <td>23272</td>\n",
       "      <td>Tree T-Light Holder Willie Winkie</td>\n",
       "      <td>10.65</td>\n",
       "      <td>12</td>\n",
       "      <td>13069.0</td>\n",
       "      <td>United Kingdom</td>\n",
       "    </tr>\n",
       "    <tr>\n",
       "      <th>4</th>\n",
       "      <td>581475</td>\n",
       "      <td>12/9/2019</td>\n",
       "      <td>23239</td>\n",
       "      <td>Set Of 4 Knick Knack Tins Poppies</td>\n",
       "      <td>11.94</td>\n",
       "      <td>6</td>\n",
       "      <td>13069.0</td>\n",
       "      <td>United Kingdom</td>\n",
       "    </tr>\n",
       "    <tr>\n",
       "      <th>5</th>\n",
       "      <td>581475</td>\n",
       "      <td>12/9/2019</td>\n",
       "      <td>21705</td>\n",
       "      <td>Bag 500g Swirly Marbles</td>\n",
       "      <td>10.65</td>\n",
       "      <td>24</td>\n",
       "      <td>13069.0</td>\n",
       "      <td>United Kingdom</td>\n",
       "    </tr>\n",
       "    <tr>\n",
       "      <th>6</th>\n",
       "      <td>581475</td>\n",
       "      <td>12/9/2019</td>\n",
       "      <td>22118</td>\n",
       "      <td>Joy Wooden Block Letters</td>\n",
       "      <td>11.53</td>\n",
       "      <td>18</td>\n",
       "      <td>13069.0</td>\n",
       "      <td>United Kingdom</td>\n",
       "    </tr>\n",
       "  </tbody>\n",
       "</table>\n",
       "</div>"
      ],
      "text/plain": [
       "  TransactionNo       Date ProductNo                          ProductName  \\\n",
       "0        581482  12/9/2019     22485        Set Of 2 Wooden Market Crates   \n",
       "1        581475  12/9/2019     22596  Christmas Star Wish List Chalkboard   \n",
       "2        581475  12/9/2019     23235             Storage Tin Vintage Leaf   \n",
       "3        581475  12/9/2019     23272    Tree T-Light Holder Willie Winkie   \n",
       "4        581475  12/9/2019     23239    Set Of 4 Knick Knack Tins Poppies   \n",
       "5        581475  12/9/2019     21705              Bag 500g Swirly Marbles   \n",
       "6        581475  12/9/2019     22118             Joy Wooden Block Letters   \n",
       "\n",
       "   Price  Quantity  CustomerNo         Country  \n",
       "0  21.47        12     17490.0  United Kingdom  \n",
       "1  10.65        36     13069.0  United Kingdom  \n",
       "2  11.53        12     13069.0  United Kingdom  \n",
       "3  10.65        12     13069.0  United Kingdom  \n",
       "4  11.94         6     13069.0  United Kingdom  \n",
       "5  10.65        24     13069.0  United Kingdom  \n",
       "6  11.53        18     13069.0  United Kingdom  "
      ]
     },
     "execution_count": 24,
     "metadata": {},
     "output_type": "execute_result"
    }
   ],
   "source": [
    "df = pd.read_csv('Sales_Transaction.csv')\n",
    "df.head(7)"
   ]
  },
  {
   "cell_type": "markdown",
   "id": "d45e2933-9c72-4c25-9f33-5b381d09d751",
   "metadata": {},
   "source": [
    "### Задание 2. Привести данные к нужному формату\n",
    "\n",
    "- Переименуем названия столбцов для удобства.\n",
    "\n",
    "['TransactionNo', 'Date', 'ProductNo', 'ProductName', 'Price', 'Quantity', 'CustomerNo', 'Country'] -> \n",
    "-> ['transaction_id', 'date', 'product_id', 'product', 'price', 'quantity', 'user_id', 'country']\n",
    "- date к format='%m/%d/%Y'\n",
    "- transaction_id к str\n",
    "- product_id к str\n",
    "- user_id к str"
   ]
  },
  {
   "cell_type": "code",
   "execution_count": 25,
   "id": "392f4f80-b75c-43c8-991f-d6d6616aaadd",
   "metadata": {},
   "outputs": [],
   "source": [
    "df = df.set_axis([\n",
    "    'transaction_id', 'date', 'product_id',\n",
    "    'product', 'price', 'quantity',\n",
    "    'user_id', 'country'], axis='columns'\n",
    ")"
   ]
  },
  {
   "cell_type": "code",
   "execution_count": 26,
   "id": "6acb11cf-d351-48e7-9821-2ae4b9981979",
   "metadata": {},
   "outputs": [],
   "source": [
    "# df['transaction_id'] = df['transaction_id'].astype(str)\n",
    "# df['product_id'] = df['product_id'].astype(str)\n",
    "# df['user_id'] = df['user_id'].astype(str)"
   ]
  },
  {
   "cell_type": "code",
   "execution_count": 54,
   "id": "6e01c8b1-8bbd-4ecb-957e-4f499e566185",
   "metadata": {},
   "outputs": [],
   "source": [
    "df['date'] = pd.to_datetime(df['date'], format = '%m/%d/%Y')"
   ]
  },
  {
   "cell_type": "code",
   "execution_count": 28,
   "id": "784fc4b9-9b2f-4867-bc64-1382014e2484",
   "metadata": {},
   "outputs": [
    {
     "name": "stdout",
     "output_type": "stream",
     "text": [
      "<class 'pandas.core.frame.DataFrame'>\n",
      "RangeIndex: 536350 entries, 0 to 536349\n",
      "Data columns (total 8 columns):\n",
      " #   Column          Non-Null Count   Dtype  \n",
      "---  ------          --------------   -----  \n",
      " 0   transaction_id  536350 non-null  object \n",
      " 1   date            536350 non-null  object \n",
      " 2   product_id      536350 non-null  object \n",
      " 3   product         536350 non-null  object \n",
      " 4   price           536350 non-null  float64\n",
      " 5   quantity        536350 non-null  int64  \n",
      " 6   user_id         536295 non-null  float64\n",
      " 7   country         536350 non-null  object \n",
      "dtypes: float64(2), int64(1), object(5)\n",
      "memory usage: 32.7+ MB\n"
     ]
    }
   ],
   "source": [
    "df.info()"
   ]
  },
  {
   "cell_type": "markdown",
   "id": "ca3b1ad9",
   "metadata": {},
   "source": [
    "### Задание 3. Предварительная обработка данных\n",
    "\n",
    "- Проверим качество данных (наличие пропусков, некорректные записи, запредельные значения и т.д.).\n",
    "- Проведем небольшой EDA (какие страны есть в датасете, приведем цену к единой валюте и поймем, есть ли различия и т.д.)."
   ]
  },
  {
   "cell_type": "code",
   "execution_count": 29,
   "id": "9d3dc84f",
   "metadata": {
    "tags": []
   },
   "outputs": [
    {
     "data": {
      "text/plain": [
       "(536350, 8)"
      ]
     },
     "execution_count": 29,
     "metadata": {},
     "output_type": "execute_result"
    }
   ],
   "source": [
    "# Количествово строк в датасете\n",
    "df.shape"
   ]
  },
  {
   "cell_type": "code",
   "execution_count": 30,
   "id": "86d22d65",
   "metadata": {
    "tags": []
   },
   "outputs": [
    {
     "data": {
      "text/plain": [
       "transaction_id     0\n",
       "date               0\n",
       "product_id         0\n",
       "product            0\n",
       "price              0\n",
       "quantity           0\n",
       "user_id           55\n",
       "country            0\n",
       "dtype: int64"
      ]
     },
     "execution_count": 30,
     "metadata": {},
     "output_type": "execute_result"
    }
   ],
   "source": [
    "# Проверка на наличие пропусков - сколько данных пропущено?\n",
    "df.isnull().sum()"
   ]
  },
  {
   "cell_type": "code",
   "execution_count": 31,
   "id": "65f3db6f",
   "metadata": {
    "tags": []
   },
   "outputs": [],
   "source": [
    "# Пропуски в id пользаков нельзя восстановить, поэтому заменим их на любое константное значение\n",
    "df['user_id'].fillna(-1, inplace=True)"
   ]
  },
  {
   "cell_type": "code",
   "execution_count": 32,
   "id": "5e06c0e0",
   "metadata": {
    "tags": []
   },
   "outputs": [
    {
     "data": {
      "text/html": [
       "<div>\n",
       "<style scoped>\n",
       "    .dataframe tbody tr th:only-of-type {\n",
       "        vertical-align: middle;\n",
       "    }\n",
       "\n",
       "    .dataframe tbody tr th {\n",
       "        vertical-align: top;\n",
       "    }\n",
       "\n",
       "    .dataframe thead th {\n",
       "        text-align: right;\n",
       "    }\n",
       "</style>\n",
       "<table border=\"1\" class=\"dataframe\">\n",
       "  <thead>\n",
       "    <tr style=\"text-align: right;\">\n",
       "      <th></th>\n",
       "      <th>transaction_id</th>\n",
       "      <th>date</th>\n",
       "      <th>product_id</th>\n",
       "      <th>product</th>\n",
       "      <th>price</th>\n",
       "      <th>quantity</th>\n",
       "      <th>user_id</th>\n",
       "      <th>country</th>\n",
       "    </tr>\n",
       "  </thead>\n",
       "  <tbody>\n",
       "    <tr>\n",
       "      <th>6511</th>\n",
       "      <td>C581406</td>\n",
       "      <td>12/8/2019</td>\n",
       "      <td>46000M</td>\n",
       "      <td>Polyester Filler Pad 45x45cm</td>\n",
       "      <td>6.19</td>\n",
       "      <td>-240</td>\n",
       "      <td>-1.0</td>\n",
       "      <td>United Kingdom</td>\n",
       "    </tr>\n",
       "    <tr>\n",
       "      <th>6512</th>\n",
       "      <td>C581406</td>\n",
       "      <td>12/8/2019</td>\n",
       "      <td>46000S</td>\n",
       "      <td>Polyester Filler Pad 40x40cm</td>\n",
       "      <td>6.19</td>\n",
       "      <td>-300</td>\n",
       "      <td>-1.0</td>\n",
       "      <td>United Kingdom</td>\n",
       "    </tr>\n",
       "    <tr>\n",
       "      <th>90098</th>\n",
       "      <td>C575153</td>\n",
       "      <td>11/8/2019</td>\n",
       "      <td>22947</td>\n",
       "      <td>Wooden Advent Calendar Red</td>\n",
       "      <td>44.25</td>\n",
       "      <td>-1</td>\n",
       "      <td>-1.0</td>\n",
       "      <td>United Kingdom</td>\n",
       "    </tr>\n",
       "    <tr>\n",
       "      <th>102671</th>\n",
       "      <td>C574288</td>\n",
       "      <td>11/3/2019</td>\n",
       "      <td>22178</td>\n",
       "      <td>Victorian Glass Hanging T-Light</td>\n",
       "      <td>25.37</td>\n",
       "      <td>-1</td>\n",
       "      <td>-1.0</td>\n",
       "      <td>United Kingdom</td>\n",
       "    </tr>\n",
       "    <tr>\n",
       "      <th>117263</th>\n",
       "      <td>C573180</td>\n",
       "      <td>10/28/2019</td>\n",
       "      <td>23048</td>\n",
       "      <td>Set Of 10 Lanterns Fairy Light Star</td>\n",
       "      <td>14.50</td>\n",
       "      <td>-1</td>\n",
       "      <td>-1.0</td>\n",
       "      <td>United Kingdom</td>\n",
       "    </tr>\n",
       "    <tr>\n",
       "      <th>163160</th>\n",
       "      <td>C569495</td>\n",
       "      <td>10/4/2019</td>\n",
       "      <td>21843</td>\n",
       "      <td>Red Retrospot Cake Stand</td>\n",
       "      <td>21.47</td>\n",
       "      <td>-1</td>\n",
       "      <td>-1.0</td>\n",
       "      <td>United Kingdom</td>\n",
       "    </tr>\n",
       "    <tr>\n",
       "      <th>190598</th>\n",
       "      <td>C567518</td>\n",
       "      <td>9/20/2019</td>\n",
       "      <td>22846</td>\n",
       "      <td>Bread Bin Diner Style Red</td>\n",
       "      <td>27.62</td>\n",
       "      <td>-1</td>\n",
       "      <td>-1.0</td>\n",
       "      <td>United Kingdom</td>\n",
       "    </tr>\n",
       "    <tr>\n",
       "      <th>192284</th>\n",
       "      <td>C567518</td>\n",
       "      <td>9/20/2019</td>\n",
       "      <td>21871</td>\n",
       "      <td>Save The Planet Mug</td>\n",
       "      <td>11.94</td>\n",
       "      <td>-12</td>\n",
       "      <td>-1.0</td>\n",
       "      <td>United Kingdom</td>\n",
       "    </tr>\n",
       "    <tr>\n",
       "      <th>242406</th>\n",
       "      <td>C563015</td>\n",
       "      <td>8/11/2019</td>\n",
       "      <td>46000M</td>\n",
       "      <td>Polyester Filler Pad 45x45cm</td>\n",
       "      <td>10.25</td>\n",
       "      <td>-160</td>\n",
       "      <td>-1.0</td>\n",
       "      <td>United Kingdom</td>\n",
       "    </tr>\n",
       "    <tr>\n",
       "      <th>242407</th>\n",
       "      <td>C563015</td>\n",
       "      <td>8/11/2019</td>\n",
       "      <td>46000S</td>\n",
       "      <td>Polyester Filler Pad 40x40cm</td>\n",
       "      <td>10.25</td>\n",
       "      <td>-220</td>\n",
       "      <td>-1.0</td>\n",
       "      <td>United Kingdom</td>\n",
       "    </tr>\n",
       "    <tr>\n",
       "      <th>246334</th>\n",
       "      <td>C562617</td>\n",
       "      <td>8/8/2019</td>\n",
       "      <td>23243</td>\n",
       "      <td>Set Of Tea Coffee Sugar Tins Pantry</td>\n",
       "      <td>15.32</td>\n",
       "      <td>-2</td>\n",
       "      <td>-1.0</td>\n",
       "      <td>United Kingdom</td>\n",
       "    </tr>\n",
       "    <tr>\n",
       "      <th>254250</th>\n",
       "      <td>C561966</td>\n",
       "      <td>8/1/2019</td>\n",
       "      <td>22371</td>\n",
       "      <td>Airline Bag Vintage Tokyo 78</td>\n",
       "      <td>14.48</td>\n",
       "      <td>-1</td>\n",
       "      <td>-1.0</td>\n",
       "      <td>United Kingdom</td>\n",
       "    </tr>\n",
       "    <tr>\n",
       "      <th>254254</th>\n",
       "      <td>C562030</td>\n",
       "      <td>8/1/2019</td>\n",
       "      <td>84595E</td>\n",
       "      <td>Large Tortilla Design Red Bowl</td>\n",
       "      <td>13.62</td>\n",
       "      <td>-1</td>\n",
       "      <td>-1.0</td>\n",
       "      <td>United Kingdom</td>\n",
       "    </tr>\n",
       "    <tr>\n",
       "      <th>260633</th>\n",
       "      <td>C561239</td>\n",
       "      <td>7/26/2019</td>\n",
       "      <td>22427</td>\n",
       "      <td>Enamel Flower Jug Cream</td>\n",
       "      <td>16.35</td>\n",
       "      <td>-1</td>\n",
       "      <td>-1.0</td>\n",
       "      <td>United Kingdom</td>\n",
       "    </tr>\n",
       "    <tr>\n",
       "      <th>260634</th>\n",
       "      <td>C561239</td>\n",
       "      <td>7/26/2019</td>\n",
       "      <td>22426</td>\n",
       "      <td>Enamel Wash Bowl Cream</td>\n",
       "      <td>14.09</td>\n",
       "      <td>-1</td>\n",
       "      <td>-1.0</td>\n",
       "      <td>United Kingdom</td>\n",
       "    </tr>\n",
       "    <tr>\n",
       "      <th>260635</th>\n",
       "      <td>C561239</td>\n",
       "      <td>7/26/2019</td>\n",
       "      <td>84755</td>\n",
       "      <td>Colour Glass T-Light Holder Hanging</td>\n",
       "      <td>10.92</td>\n",
       "      <td>-4</td>\n",
       "      <td>-1.0</td>\n",
       "      <td>United Kingdom</td>\n",
       "    </tr>\n",
       "    <tr>\n",
       "      <th>276396</th>\n",
       "      <td>C559949</td>\n",
       "      <td>7/14/2019</td>\n",
       "      <td>22699</td>\n",
       "      <td>Roses Regency Teacup And Saucer</td>\n",
       "      <td>13.27</td>\n",
       "      <td>-2</td>\n",
       "      <td>-1.0</td>\n",
       "      <td>United Kingdom</td>\n",
       "    </tr>\n",
       "    <tr>\n",
       "      <th>285494</th>\n",
       "      <td>C559296</td>\n",
       "      <td>7/7/2019</td>\n",
       "      <td>23001</td>\n",
       "      <td>Travel Card Wallet Dotcomgiftshop</td>\n",
       "      <td>10.25</td>\n",
       "      <td>-200</td>\n",
       "      <td>-1.0</td>\n",
       "      <td>United Kingdom</td>\n",
       "    </tr>\n",
       "    <tr>\n",
       "      <th>285495</th>\n",
       "      <td>C559296</td>\n",
       "      <td>7/7/2019</td>\n",
       "      <td>22616</td>\n",
       "      <td>Pack Of 12 London Tissues</td>\n",
       "      <td>10.25</td>\n",
       "      <td>-204</td>\n",
       "      <td>-1.0</td>\n",
       "      <td>United Kingdom</td>\n",
       "    </tr>\n",
       "    <tr>\n",
       "      <th>285496</th>\n",
       "      <td>C559296</td>\n",
       "      <td>7/7/2019</td>\n",
       "      <td>23298</td>\n",
       "      <td>Spotty Bunting</td>\n",
       "      <td>10.25</td>\n",
       "      <td>-170</td>\n",
       "      <td>-1.0</td>\n",
       "      <td>United Kingdom</td>\n",
       "    </tr>\n",
       "    <tr>\n",
       "      <th>297259</th>\n",
       "      <td>C558364</td>\n",
       "      <td>6/28/2019</td>\n",
       "      <td>22960</td>\n",
       "      <td>Jam Making Set With Jars</td>\n",
       "      <td>18.75</td>\n",
       "      <td>-1</td>\n",
       "      <td>-1.0</td>\n",
       "      <td>United Kingdom</td>\n",
       "    </tr>\n",
       "    <tr>\n",
       "      <th>298352</th>\n",
       "      <td>558245</td>\n",
       "      <td>6/27/2019</td>\n",
       "      <td>22734</td>\n",
       "      <td>Set Of 6 Ribbons Vintage Christmas</td>\n",
       "      <td>10.25</td>\n",
       "      <td>8</td>\n",
       "      <td>-1.0</td>\n",
       "      <td>United Kingdom</td>\n",
       "    </tr>\n",
       "    <tr>\n",
       "      <th>303165</th>\n",
       "      <td>C557664</td>\n",
       "      <td>6/21/2019</td>\n",
       "      <td>22847</td>\n",
       "      <td>Bread Bin Diner Style Ivory</td>\n",
       "      <td>25.57</td>\n",
       "      <td>-1</td>\n",
       "      <td>-1.0</td>\n",
       "      <td>United Kingdom</td>\n",
       "    </tr>\n",
       "    <tr>\n",
       "      <th>304635</th>\n",
       "      <td>C557664</td>\n",
       "      <td>6/21/2019</td>\n",
       "      <td>23183</td>\n",
       "      <td>Mother's Kitchen Spoon Rest</td>\n",
       "      <td>14.09</td>\n",
       "      <td>-1</td>\n",
       "      <td>-1.0</td>\n",
       "      <td>United Kingdom</td>\n",
       "    </tr>\n",
       "    <tr>\n",
       "      <th>311943</th>\n",
       "      <td>C556939</td>\n",
       "      <td>6/15/2019</td>\n",
       "      <td>46000M</td>\n",
       "      <td>Polyester Filler Pad 45x45cm</td>\n",
       "      <td>10.25</td>\n",
       "      <td>-80</td>\n",
       "      <td>-1.0</td>\n",
       "      <td>United Kingdom</td>\n",
       "    </tr>\n",
       "    <tr>\n",
       "      <th>311944</th>\n",
       "      <td>C556939</td>\n",
       "      <td>6/15/2019</td>\n",
       "      <td>46000S</td>\n",
       "      <td>Polyester Filler Pad 40x40cm</td>\n",
       "      <td>10.25</td>\n",
       "      <td>-160</td>\n",
       "      <td>-1.0</td>\n",
       "      <td>United Kingdom</td>\n",
       "    </tr>\n",
       "    <tr>\n",
       "      <th>333735</th>\n",
       "      <td>C554716</td>\n",
       "      <td>5/26/2019</td>\n",
       "      <td>22662</td>\n",
       "      <td>Lunch Bag Dolly Girl Design</td>\n",
       "      <td>5.97</td>\n",
       "      <td>-1</td>\n",
       "      <td>-1.0</td>\n",
       "      <td>United Kingdom</td>\n",
       "    </tr>\n",
       "    <tr>\n",
       "      <th>333736</th>\n",
       "      <td>C554716</td>\n",
       "      <td>5/26/2019</td>\n",
       "      <td>23206</td>\n",
       "      <td>Lunch Bag Apple Design</td>\n",
       "      <td>5.97</td>\n",
       "      <td>-1</td>\n",
       "      <td>-1.0</td>\n",
       "      <td>United Kingdom</td>\n",
       "    </tr>\n",
       "    <tr>\n",
       "      <th>342908</th>\n",
       "      <td>C553862</td>\n",
       "      <td>5/19/2019</td>\n",
       "      <td>84945</td>\n",
       "      <td>Multi Colour Silver T-Light Holder</td>\n",
       "      <td>21.28</td>\n",
       "      <td>-1</td>\n",
       "      <td>-1.0</td>\n",
       "      <td>United Kingdom</td>\n",
       "    </tr>\n",
       "    <tr>\n",
       "      <th>342953</th>\n",
       "      <td>C553854</td>\n",
       "      <td>5/19/2019</td>\n",
       "      <td>22053</td>\n",
       "      <td>Empire Design Rosette</td>\n",
       "      <td>11.53</td>\n",
       "      <td>-1</td>\n",
       "      <td>-1.0</td>\n",
       "      <td>United Kingdom</td>\n",
       "    </tr>\n",
       "    <tr>\n",
       "      <th>342954</th>\n",
       "      <td>C553854</td>\n",
       "      <td>5/19/2019</td>\n",
       "      <td>21703</td>\n",
       "      <td>Bag 125g Swirly Marbles</td>\n",
       "      <td>10.68</td>\n",
       "      <td>-1</td>\n",
       "      <td>-1.0</td>\n",
       "      <td>United Kingdom</td>\n",
       "    </tr>\n",
       "    <tr>\n",
       "      <th>342955</th>\n",
       "      <td>C553854</td>\n",
       "      <td>5/19/2019</td>\n",
       "      <td>22891</td>\n",
       "      <td>Tea For One Polkadot</td>\n",
       "      <td>14.61</td>\n",
       "      <td>-1</td>\n",
       "      <td>-1.0</td>\n",
       "      <td>United Kingdom</td>\n",
       "    </tr>\n",
       "    <tr>\n",
       "      <th>361482</th>\n",
       "      <td>C552230</td>\n",
       "      <td>5/6/2019</td>\n",
       "      <td>20735</td>\n",
       "      <td>Black Mini Tape Measure</td>\n",
       "      <td>10.25</td>\n",
       "      <td>-1</td>\n",
       "      <td>-1.0</td>\n",
       "      <td>United Kingdom</td>\n",
       "    </tr>\n",
       "    <tr>\n",
       "      <th>361483</th>\n",
       "      <td>C552230</td>\n",
       "      <td>5/6/2019</td>\n",
       "      <td>22617</td>\n",
       "      <td>Baking Set Spaceboy Design</td>\n",
       "      <td>10.25</td>\n",
       "      <td>-1</td>\n",
       "      <td>-1.0</td>\n",
       "      <td>United Kingdom</td>\n",
       "    </tr>\n",
       "    <tr>\n",
       "      <th>361484</th>\n",
       "      <td>C552230</td>\n",
       "      <td>5/6/2019</td>\n",
       "      <td>37327</td>\n",
       "      <td>Asstd Multicolour Circles Mug</td>\n",
       "      <td>10.25</td>\n",
       "      <td>-1</td>\n",
       "      <td>-1.0</td>\n",
       "      <td>United Kingdom</td>\n",
       "    </tr>\n",
       "    <tr>\n",
       "      <th>361485</th>\n",
       "      <td>C552230</td>\n",
       "      <td>5/6/2019</td>\n",
       "      <td>84375</td>\n",
       "      <td>Set Of 20 Kids Cookie Cutters</td>\n",
       "      <td>10.25</td>\n",
       "      <td>-1</td>\n",
       "      <td>-1.0</td>\n",
       "      <td>United Kingdom</td>\n",
       "    </tr>\n",
       "    <tr>\n",
       "      <th>361486</th>\n",
       "      <td>C552230</td>\n",
       "      <td>5/6/2019</td>\n",
       "      <td>84969</td>\n",
       "      <td>Box Of 6 Assorted Colour Teaspoons</td>\n",
       "      <td>10.25</td>\n",
       "      <td>-1</td>\n",
       "      <td>-1.0</td>\n",
       "      <td>United Kingdom</td>\n",
       "    </tr>\n",
       "    <tr>\n",
       "      <th>395771</th>\n",
       "      <td>C548605</td>\n",
       "      <td>4/1/2019</td>\n",
       "      <td>22453</td>\n",
       "      <td>Measuring Tape Babushka Blue</td>\n",
       "      <td>13.27</td>\n",
       "      <td>-1</td>\n",
       "      <td>-1.0</td>\n",
       "      <td>United Kingdom</td>\n",
       "    </tr>\n",
       "    <tr>\n",
       "      <th>412419</th>\n",
       "      <td>C547091</td>\n",
       "      <td>3/20/2019</td>\n",
       "      <td>22766</td>\n",
       "      <td>Photo Frame Cornice</td>\n",
       "      <td>13.27</td>\n",
       "      <td>-12</td>\n",
       "      <td>-1.0</td>\n",
       "      <td>United Kingdom</td>\n",
       "    </tr>\n",
       "    <tr>\n",
       "      <th>412420</th>\n",
       "      <td>C547091</td>\n",
       "      <td>3/20/2019</td>\n",
       "      <td>21316</td>\n",
       "      <td>Small Chunky Glass Roman Bowl</td>\n",
       "      <td>13.27</td>\n",
       "      <td>-1</td>\n",
       "      <td>-1.0</td>\n",
       "      <td>United Kingdom</td>\n",
       "    </tr>\n",
       "    <tr>\n",
       "      <th>412421</th>\n",
       "      <td>C547091</td>\n",
       "      <td>3/20/2019</td>\n",
       "      <td>22800</td>\n",
       "      <td>Antique Tall Swirlglass Trinket Pot</td>\n",
       "      <td>14.09</td>\n",
       "      <td>-4</td>\n",
       "      <td>-1.0</td>\n",
       "      <td>United Kingdom</td>\n",
       "    </tr>\n",
       "    <tr>\n",
       "      <th>413780</th>\n",
       "      <td>C547008</td>\n",
       "      <td>3/18/2019</td>\n",
       "      <td>22567</td>\n",
       "      <td>20 Dolly Pegs Retrospot</td>\n",
       "      <td>11.53</td>\n",
       "      <td>-1</td>\n",
       "      <td>-1.0</td>\n",
       "      <td>United Kingdom</td>\n",
       "    </tr>\n",
       "    <tr>\n",
       "      <th>416704</th>\n",
       "      <td>C546758</td>\n",
       "      <td>3/16/2019</td>\n",
       "      <td>22212</td>\n",
       "      <td>Four Hook White Lovebirds</td>\n",
       "      <td>12.40</td>\n",
       "      <td>-1</td>\n",
       "      <td>-1.0</td>\n",
       "      <td>United Kingdom</td>\n",
       "    </tr>\n",
       "    <tr>\n",
       "      <th>429733</th>\n",
       "      <td>C545506</td>\n",
       "      <td>3/3/2019</td>\n",
       "      <td>22907</td>\n",
       "      <td>Pack Of 20 Napkins Pantry Design</td>\n",
       "      <td>11.12</td>\n",
       "      <td>-12</td>\n",
       "      <td>-1.0</td>\n",
       "      <td>United Kingdom</td>\n",
       "    </tr>\n",
       "    <tr>\n",
       "      <th>454036</th>\n",
       "      <td>C543384</td>\n",
       "      <td>2/7/2019</td>\n",
       "      <td>48173C</td>\n",
       "      <td>Doormat Black Flock</td>\n",
       "      <td>18.40</td>\n",
       "      <td>-1</td>\n",
       "      <td>-1.0</td>\n",
       "      <td>United Kingdom</td>\n",
       "    </tr>\n",
       "    <tr>\n",
       "      <th>455511</th>\n",
       "      <td>C543185</td>\n",
       "      <td>2/4/2019</td>\n",
       "      <td>22333</td>\n",
       "      <td>Retrospot Party Bag + Sticker Set</td>\n",
       "      <td>11.94</td>\n",
       "      <td>-14</td>\n",
       "      <td>-1.0</td>\n",
       "      <td>United Kingdom</td>\n",
       "    </tr>\n",
       "    <tr>\n",
       "      <th>455512</th>\n",
       "      <td>C543185</td>\n",
       "      <td>2/4/2019</td>\n",
       "      <td>22332</td>\n",
       "      <td>Skulls Party Bag + Sticker Set</td>\n",
       "      <td>11.94</td>\n",
       "      <td>-14</td>\n",
       "      <td>-1.0</td>\n",
       "      <td>United Kingdom</td>\n",
       "    </tr>\n",
       "    <tr>\n",
       "      <th>459432</th>\n",
       "      <td>C542860</td>\n",
       "      <td>2/1/2019</td>\n",
       "      <td>22580</td>\n",
       "      <td>Advent Calendar Gingham Sack</td>\n",
       "      <td>16.35</td>\n",
       "      <td>-1</td>\n",
       "      <td>-1.0</td>\n",
       "      <td>United Kingdom</td>\n",
       "    </tr>\n",
       "    <tr>\n",
       "      <th>462607</th>\n",
       "      <td>C542540</td>\n",
       "      <td>1/28/2019</td>\n",
       "      <td>21658</td>\n",
       "      <td>Glass Beurre Dish</td>\n",
       "      <td>18.75</td>\n",
       "      <td>-1</td>\n",
       "      <td>-1.0</td>\n",
       "      <td>United Kingdom</td>\n",
       "    </tr>\n",
       "    <tr>\n",
       "      <th>483197</th>\n",
       "      <td>C540854</td>\n",
       "      <td>1/12/2019</td>\n",
       "      <td>22461</td>\n",
       "      <td>Savoy Art Deco Clock</td>\n",
       "      <td>23.32</td>\n",
       "      <td>-1</td>\n",
       "      <td>-1.0</td>\n",
       "      <td>United Kingdom</td>\n",
       "    </tr>\n",
       "    <tr>\n",
       "      <th>486650</th>\n",
       "      <td>C540559</td>\n",
       "      <td>1/10/2019</td>\n",
       "      <td>21888</td>\n",
       "      <td>Bingo Set</td>\n",
       "      <td>14.09</td>\n",
       "      <td>-4</td>\n",
       "      <td>-1.0</td>\n",
       "      <td>United Kingdom</td>\n",
       "    </tr>\n",
       "    <tr>\n",
       "      <th>493036</th>\n",
       "      <td>C540155</td>\n",
       "      <td>1/5/2019</td>\n",
       "      <td>72802B</td>\n",
       "      <td>Ocean Scent Candle In Jewelled Box</td>\n",
       "      <td>14.16</td>\n",
       "      <td>-54</td>\n",
       "      <td>-1.0</td>\n",
       "      <td>United Kingdom</td>\n",
       "    </tr>\n",
       "    <tr>\n",
       "      <th>495203</th>\n",
       "      <td>C539948</td>\n",
       "      <td>12/23/2018</td>\n",
       "      <td>21888</td>\n",
       "      <td>Bingo Set</td>\n",
       "      <td>14.09</td>\n",
       "      <td>-4</td>\n",
       "      <td>-1.0</td>\n",
       "      <td>United Kingdom</td>\n",
       "    </tr>\n",
       "    <tr>\n",
       "      <th>497059</th>\n",
       "      <td>C539756</td>\n",
       "      <td>12/21/2018</td>\n",
       "      <td>22720</td>\n",
       "      <td>Set Of 3 Cake Tins Pantry Design</td>\n",
       "      <td>15.32</td>\n",
       "      <td>-1</td>\n",
       "      <td>-1.0</td>\n",
       "      <td>United Kingdom</td>\n",
       "    </tr>\n",
       "    <tr>\n",
       "      <th>507547</th>\n",
       "      <td>C538686</td>\n",
       "      <td>12/14/2018</td>\n",
       "      <td>22467</td>\n",
       "      <td>Gumball Coat Rack</td>\n",
       "      <td>12.86</td>\n",
       "      <td>-1</td>\n",
       "      <td>-1.0</td>\n",
       "      <td>United Kingdom</td>\n",
       "    </tr>\n",
       "  </tbody>\n",
       "</table>\n",
       "</div>"
      ],
      "text/plain": [
       "       transaction_id        date product_id  \\\n",
       "6511          C581406   12/8/2019     46000M   \n",
       "6512          C581406   12/8/2019     46000S   \n",
       "90098         C575153   11/8/2019      22947   \n",
       "102671        C574288   11/3/2019      22178   \n",
       "117263        C573180  10/28/2019      23048   \n",
       "163160        C569495   10/4/2019      21843   \n",
       "190598        C567518   9/20/2019      22846   \n",
       "192284        C567518   9/20/2019      21871   \n",
       "242406        C563015   8/11/2019     46000M   \n",
       "242407        C563015   8/11/2019     46000S   \n",
       "246334        C562617    8/8/2019      23243   \n",
       "254250        C561966    8/1/2019      22371   \n",
       "254254        C562030    8/1/2019     84595E   \n",
       "260633        C561239   7/26/2019      22427   \n",
       "260634        C561239   7/26/2019      22426   \n",
       "260635        C561239   7/26/2019      84755   \n",
       "276396        C559949   7/14/2019      22699   \n",
       "285494        C559296    7/7/2019      23001   \n",
       "285495        C559296    7/7/2019      22616   \n",
       "285496        C559296    7/7/2019      23298   \n",
       "297259        C558364   6/28/2019      22960   \n",
       "298352         558245   6/27/2019      22734   \n",
       "303165        C557664   6/21/2019      22847   \n",
       "304635        C557664   6/21/2019      23183   \n",
       "311943        C556939   6/15/2019     46000M   \n",
       "311944        C556939   6/15/2019     46000S   \n",
       "333735        C554716   5/26/2019      22662   \n",
       "333736        C554716   5/26/2019      23206   \n",
       "342908        C553862   5/19/2019      84945   \n",
       "342953        C553854   5/19/2019      22053   \n",
       "342954        C553854   5/19/2019      21703   \n",
       "342955        C553854   5/19/2019      22891   \n",
       "361482        C552230    5/6/2019      20735   \n",
       "361483        C552230    5/6/2019      22617   \n",
       "361484        C552230    5/6/2019      37327   \n",
       "361485        C552230    5/6/2019      84375   \n",
       "361486        C552230    5/6/2019      84969   \n",
       "395771        C548605    4/1/2019      22453   \n",
       "412419        C547091   3/20/2019      22766   \n",
       "412420        C547091   3/20/2019      21316   \n",
       "412421        C547091   3/20/2019      22800   \n",
       "413780        C547008   3/18/2019      22567   \n",
       "416704        C546758   3/16/2019      22212   \n",
       "429733        C545506    3/3/2019      22907   \n",
       "454036        C543384    2/7/2019     48173C   \n",
       "455511        C543185    2/4/2019      22333   \n",
       "455512        C543185    2/4/2019      22332   \n",
       "459432        C542860    2/1/2019      22580   \n",
       "462607        C542540   1/28/2019      21658   \n",
       "483197        C540854   1/12/2019      22461   \n",
       "486650        C540559   1/10/2019      21888   \n",
       "493036        C540155    1/5/2019     72802B   \n",
       "495203        C539948  12/23/2018      21888   \n",
       "497059        C539756  12/21/2018      22720   \n",
       "507547        C538686  12/14/2018      22467   \n",
       "\n",
       "                                    product  price  quantity  user_id  \\\n",
       "6511           Polyester Filler Pad 45x45cm   6.19      -240     -1.0   \n",
       "6512           Polyester Filler Pad 40x40cm   6.19      -300     -1.0   \n",
       "90098            Wooden Advent Calendar Red  44.25        -1     -1.0   \n",
       "102671      Victorian Glass Hanging T-Light  25.37        -1     -1.0   \n",
       "117263  Set Of 10 Lanterns Fairy Light Star  14.50        -1     -1.0   \n",
       "163160             Red Retrospot Cake Stand  21.47        -1     -1.0   \n",
       "190598            Bread Bin Diner Style Red  27.62        -1     -1.0   \n",
       "192284                  Save The Planet Mug  11.94       -12     -1.0   \n",
       "242406         Polyester Filler Pad 45x45cm  10.25      -160     -1.0   \n",
       "242407         Polyester Filler Pad 40x40cm  10.25      -220     -1.0   \n",
       "246334  Set Of Tea Coffee Sugar Tins Pantry  15.32        -2     -1.0   \n",
       "254250         Airline Bag Vintage Tokyo 78  14.48        -1     -1.0   \n",
       "254254       Large Tortilla Design Red Bowl  13.62        -1     -1.0   \n",
       "260633              Enamel Flower Jug Cream  16.35        -1     -1.0   \n",
       "260634               Enamel Wash Bowl Cream  14.09        -1     -1.0   \n",
       "260635  Colour Glass T-Light Holder Hanging  10.92        -4     -1.0   \n",
       "276396      Roses Regency Teacup And Saucer  13.27        -2     -1.0   \n",
       "285494    Travel Card Wallet Dotcomgiftshop  10.25      -200     -1.0   \n",
       "285495            Pack Of 12 London Tissues  10.25      -204     -1.0   \n",
       "285496                       Spotty Bunting  10.25      -170     -1.0   \n",
       "297259             Jam Making Set With Jars  18.75        -1     -1.0   \n",
       "298352   Set Of 6 Ribbons Vintage Christmas  10.25         8     -1.0   \n",
       "303165          Bread Bin Diner Style Ivory  25.57        -1     -1.0   \n",
       "304635          Mother's Kitchen Spoon Rest  14.09        -1     -1.0   \n",
       "311943         Polyester Filler Pad 45x45cm  10.25       -80     -1.0   \n",
       "311944         Polyester Filler Pad 40x40cm  10.25      -160     -1.0   \n",
       "333735          Lunch Bag Dolly Girl Design   5.97        -1     -1.0   \n",
       "333736               Lunch Bag Apple Design   5.97        -1     -1.0   \n",
       "342908   Multi Colour Silver T-Light Holder  21.28        -1     -1.0   \n",
       "342953                Empire Design Rosette  11.53        -1     -1.0   \n",
       "342954              Bag 125g Swirly Marbles  10.68        -1     -1.0   \n",
       "342955                 Tea For One Polkadot  14.61        -1     -1.0   \n",
       "361482              Black Mini Tape Measure  10.25        -1     -1.0   \n",
       "361483           Baking Set Spaceboy Design  10.25        -1     -1.0   \n",
       "361484        Asstd Multicolour Circles Mug  10.25        -1     -1.0   \n",
       "361485        Set Of 20 Kids Cookie Cutters  10.25        -1     -1.0   \n",
       "361486   Box Of 6 Assorted Colour Teaspoons  10.25        -1     -1.0   \n",
       "395771         Measuring Tape Babushka Blue  13.27        -1     -1.0   \n",
       "412419                  Photo Frame Cornice  13.27       -12     -1.0   \n",
       "412420        Small Chunky Glass Roman Bowl  13.27        -1     -1.0   \n",
       "412421  Antique Tall Swirlglass Trinket Pot  14.09        -4     -1.0   \n",
       "413780              20 Dolly Pegs Retrospot  11.53        -1     -1.0   \n",
       "416704            Four Hook White Lovebirds  12.40        -1     -1.0   \n",
       "429733     Pack Of 20 Napkins Pantry Design  11.12       -12     -1.0   \n",
       "454036                  Doormat Black Flock  18.40        -1     -1.0   \n",
       "455511    Retrospot Party Bag + Sticker Set  11.94       -14     -1.0   \n",
       "455512       Skulls Party Bag + Sticker Set  11.94       -14     -1.0   \n",
       "459432         Advent Calendar Gingham Sack  16.35        -1     -1.0   \n",
       "462607                    Glass Beurre Dish  18.75        -1     -1.0   \n",
       "483197                 Savoy Art Deco Clock  23.32        -1     -1.0   \n",
       "486650                            Bingo Set  14.09        -4     -1.0   \n",
       "493036   Ocean Scent Candle In Jewelled Box  14.16       -54     -1.0   \n",
       "495203                            Bingo Set  14.09        -4     -1.0   \n",
       "497059     Set Of 3 Cake Tins Pantry Design  15.32        -1     -1.0   \n",
       "507547                    Gumball Coat Rack  12.86        -1     -1.0   \n",
       "\n",
       "               country  \n",
       "6511    United Kingdom  \n",
       "6512    United Kingdom  \n",
       "90098   United Kingdom  \n",
       "102671  United Kingdom  \n",
       "117263  United Kingdom  \n",
       "163160  United Kingdom  \n",
       "190598  United Kingdom  \n",
       "192284  United Kingdom  \n",
       "242406  United Kingdom  \n",
       "242407  United Kingdom  \n",
       "246334  United Kingdom  \n",
       "254250  United Kingdom  \n",
       "254254  United Kingdom  \n",
       "260633  United Kingdom  \n",
       "260634  United Kingdom  \n",
       "260635  United Kingdom  \n",
       "276396  United Kingdom  \n",
       "285494  United Kingdom  \n",
       "285495  United Kingdom  \n",
       "285496  United Kingdom  \n",
       "297259  United Kingdom  \n",
       "298352  United Kingdom  \n",
       "303165  United Kingdom  \n",
       "304635  United Kingdom  \n",
       "311943  United Kingdom  \n",
       "311944  United Kingdom  \n",
       "333735  United Kingdom  \n",
       "333736  United Kingdom  \n",
       "342908  United Kingdom  \n",
       "342953  United Kingdom  \n",
       "342954  United Kingdom  \n",
       "342955  United Kingdom  \n",
       "361482  United Kingdom  \n",
       "361483  United Kingdom  \n",
       "361484  United Kingdom  \n",
       "361485  United Kingdom  \n",
       "361486  United Kingdom  \n",
       "395771  United Kingdom  \n",
       "412419  United Kingdom  \n",
       "412420  United Kingdom  \n",
       "412421  United Kingdom  \n",
       "413780  United Kingdom  \n",
       "416704  United Kingdom  \n",
       "429733  United Kingdom  \n",
       "454036  United Kingdom  \n",
       "455511  United Kingdom  \n",
       "455512  United Kingdom  \n",
       "459432  United Kingdom  \n",
       "462607  United Kingdom  \n",
       "483197  United Kingdom  \n",
       "486650  United Kingdom  \n",
       "493036  United Kingdom  \n",
       "495203  United Kingdom  \n",
       "497059  United Kingdom  \n",
       "507547  United Kingdom  "
      ]
     },
     "execution_count": 32,
     "metadata": {},
     "output_type": "execute_result"
    }
   ],
   "source": [
    "# Посмотрим записи по таким пользователям - какие выводы?\n",
    "df[df['user_id']==-1]"
   ]
  },
  {
   "cell_type": "code",
   "execution_count": 35,
   "id": "c71e502a",
   "metadata": {
    "tags": []
   },
   "outputs": [],
   "source": [
    "# Если первая буква «C» в айдишке указывает на «возврат», давайте найдем общее количество возвратов.\n",
    "import re\n",
    "\n",
    "def cancelation(x) :\n",
    "    x = str(x)\n",
    "    pattern = r'[C]'\n",
    "    return re.findall(pattern, x)\n"
   ]
  },
  {
   "cell_type": "code",
   "execution_count": 36,
   "id": "26ea606e",
   "metadata": {
    "tags": []
   },
   "outputs": [],
   "source": [
    "# Делаем отдельный столбец с обозначением возвратов. Понадобится для исключения «возвратов»\n",
    "df['cancel'] = df.transaction_id.apply(lambda x: True if 'C' in cancelation(x) else False)"
   ]
  },
  {
   "cell_type": "code",
   "execution_count": 37,
   "id": "03b7ad09",
   "metadata": {
    "tags": []
   },
   "outputs": [
    {
     "data": {
      "text/plain": [
       "cancel\n",
       "False    0.983994\n",
       "True     0.016006\n",
       "Name: proportion, dtype: float64"
      ]
     },
     "execution_count": 37,
     "metadata": {},
     "output_type": "execute_result"
    }
   ],
   "source": [
    "# Посчитаем долю возвратов\n",
    "df['cancel'].value_counts(normalize=True)"
   ]
  },
  {
   "cell_type": "code",
   "execution_count": 39,
   "id": "8acf5603",
   "metadata": {
    "tags": []
   },
   "outputs": [],
   "source": [
    "# Удалим значения с возвратами\n",
    "index_to_drop = df[df['cancel']==True].index\n",
    "df.drop(index=index_to_drop, inplace=True)"
   ]
  },
  {
   "cell_type": "code",
   "execution_count": 40,
   "id": "4fff8408-2a8c-4d0f-8511-6a02b33f6033",
   "metadata": {},
   "outputs": [
    {
     "data": {
      "text/plain": [
       "(527765, 9)"
      ]
     },
     "execution_count": 40,
     "metadata": {},
     "output_type": "execute_result"
    }
   ],
   "source": [
    "df.shape"
   ]
  },
  {
   "cell_type": "code",
   "execution_count": 42,
   "id": "49902979",
   "metadata": {
    "tags": []
   },
   "outputs": [],
   "source": [
    "# Удалим значения с константным id пользователей, которым заполнили ранее\n",
    "index_to_drop = df[df['user_id']==-1].index\n",
    "df.drop(index=index_to_drop, inplace=True)"
   ]
  },
  {
   "cell_type": "code",
   "execution_count": 43,
   "id": "852f86fb-55ea-4908-8e4e-21aa329ba0e7",
   "metadata": {},
   "outputs": [
    {
     "data": {
      "text/plain": [
       "(527764, 9)"
      ]
     },
     "execution_count": 43,
     "metadata": {},
     "output_type": "execute_result"
    }
   ],
   "source": [
    "df.shape"
   ]
  },
  {
   "cell_type": "code",
   "execution_count": 44,
   "id": "8c2e2cfd-db6e-4f45-b684-1589e2e7b5eb",
   "metadata": {
    "tags": []
   },
   "outputs": [
    {
     "data": {
      "text/html": [
       "<div>\n",
       "<style scoped>\n",
       "    .dataframe tbody tr th:only-of-type {\n",
       "        vertical-align: middle;\n",
       "    }\n",
       "\n",
       "    .dataframe tbody tr th {\n",
       "        vertical-align: top;\n",
       "    }\n",
       "\n",
       "    .dataframe thead th {\n",
       "        text-align: right;\n",
       "    }\n",
       "</style>\n",
       "<table border=\"1\" class=\"dataframe\">\n",
       "  <thead>\n",
       "    <tr style=\"text-align: right;\">\n",
       "      <th></th>\n",
       "      <th>price</th>\n",
       "      <th>quantity</th>\n",
       "      <th>user_id</th>\n",
       "    </tr>\n",
       "  </thead>\n",
       "  <tbody>\n",
       "    <tr>\n",
       "      <th>count</th>\n",
       "      <td>527764.000000</td>\n",
       "      <td>527764.000000</td>\n",
       "      <td>527764.000000</td>\n",
       "    </tr>\n",
       "    <tr>\n",
       "      <th>mean</th>\n",
       "      <td>12.629640</td>\n",
       "      <td>10.594679</td>\n",
       "      <td>15231.626733</td>\n",
       "    </tr>\n",
       "    <tr>\n",
       "      <th>std</th>\n",
       "      <td>7.933224</td>\n",
       "      <td>156.786795</td>\n",
       "      <td>1716.522182</td>\n",
       "    </tr>\n",
       "    <tr>\n",
       "      <th>min</th>\n",
       "      <td>5.130000</td>\n",
       "      <td>1.000000</td>\n",
       "      <td>12004.000000</td>\n",
       "    </tr>\n",
       "    <tr>\n",
       "      <th>25%</th>\n",
       "      <td>10.990000</td>\n",
       "      <td>1.000000</td>\n",
       "      <td>13813.000000</td>\n",
       "    </tr>\n",
       "    <tr>\n",
       "      <th>50%</th>\n",
       "      <td>11.940000</td>\n",
       "      <td>3.000000</td>\n",
       "      <td>15159.000000</td>\n",
       "    </tr>\n",
       "    <tr>\n",
       "      <th>75%</th>\n",
       "      <td>14.090000</td>\n",
       "      <td>11.000000</td>\n",
       "      <td>16729.000000</td>\n",
       "    </tr>\n",
       "    <tr>\n",
       "      <th>max</th>\n",
       "      <td>660.620000</td>\n",
       "      <td>80995.000000</td>\n",
       "      <td>18287.000000</td>\n",
       "    </tr>\n",
       "  </tbody>\n",
       "</table>\n",
       "</div>"
      ],
      "text/plain": [
       "               price       quantity        user_id\n",
       "count  527764.000000  527764.000000  527764.000000\n",
       "mean       12.629640      10.594679   15231.626733\n",
       "std         7.933224     156.786795    1716.522182\n",
       "min         5.130000       1.000000   12004.000000\n",
       "25%        10.990000       1.000000   13813.000000\n",
       "50%        11.940000       3.000000   15159.000000\n",
       "75%        14.090000      11.000000   16729.000000\n",
       "max       660.620000   80995.000000   18287.000000"
      ]
     },
     "execution_count": 44,
     "metadata": {},
     "output_type": "execute_result"
    }
   ],
   "source": [
    "# Проверим, остались ли у нас отрицательные значения по количеству продуктов. \n",
    "# Да и в целом, грубо прикинем по максимальным и минимальным значениям датасета (квартили)\n",
    "# Какие выводы по статистикам датасета?\n",
    "df.describe()\n"
   ]
  },
  {
   "cell_type": "code",
   "execution_count": 45,
   "id": "cb7b9b82-3025-4502-b253-5cdfd98609ce",
   "metadata": {
    "tags": []
   },
   "outputs": [
    {
     "data": {
      "text/html": [
       "<div>\n",
       "<style scoped>\n",
       "    .dataframe tbody tr th:only-of-type {\n",
       "        vertical-align: middle;\n",
       "    }\n",
       "\n",
       "    .dataframe tbody tr th {\n",
       "        vertical-align: top;\n",
       "    }\n",
       "\n",
       "    .dataframe thead th {\n",
       "        text-align: right;\n",
       "    }\n",
       "</style>\n",
       "<table border=\"1\" class=\"dataframe\">\n",
       "  <thead>\n",
       "    <tr style=\"text-align: right;\">\n",
       "      <th></th>\n",
       "      <th>transaction_id</th>\n",
       "      <th>date</th>\n",
       "      <th>product_id</th>\n",
       "      <th>product</th>\n",
       "      <th>price</th>\n",
       "      <th>quantity</th>\n",
       "      <th>user_id</th>\n",
       "      <th>country</th>\n",
       "      <th>cancel</th>\n",
       "    </tr>\n",
       "  </thead>\n",
       "  <tbody>\n",
       "    <tr>\n",
       "      <th>142</th>\n",
       "      <td>581483</td>\n",
       "      <td>12/9/2019</td>\n",
       "      <td>23843</td>\n",
       "      <td>Paper Craft Little Birdie</td>\n",
       "      <td>12.38</td>\n",
       "      <td>80995</td>\n",
       "      <td>16446.0</td>\n",
       "      <td>United Kingdom</td>\n",
       "      <td>False</td>\n",
       "    </tr>\n",
       "    <tr>\n",
       "      <th>343125</th>\n",
       "      <td>553573</td>\n",
       "      <td>5/18/2019</td>\n",
       "      <td>22980</td>\n",
       "      <td>Pantry Scrubbing Brush</td>\n",
       "      <td>11.94</td>\n",
       "      <td>1</td>\n",
       "      <td>16446.0</td>\n",
       "      <td>United Kingdom</td>\n",
       "      <td>False</td>\n",
       "    </tr>\n",
       "    <tr>\n",
       "      <th>343126</th>\n",
       "      <td>553573</td>\n",
       "      <td>5/18/2019</td>\n",
       "      <td>22982</td>\n",
       "      <td>Pantry Pastry Brush</td>\n",
       "      <td>11.53</td>\n",
       "      <td>1</td>\n",
       "      <td>16446.0</td>\n",
       "      <td>United Kingdom</td>\n",
       "      <td>False</td>\n",
       "    </tr>\n",
       "  </tbody>\n",
       "</table>\n",
       "</div>"
      ],
      "text/plain": [
       "       transaction_id       date product_id                    product  price  \\\n",
       "142            581483  12/9/2019      23843  Paper Craft Little Birdie  12.38   \n",
       "343125         553573  5/18/2019      22980     Pantry Scrubbing Brush  11.94   \n",
       "343126         553573  5/18/2019      22982        Pantry Pastry Brush  11.53   \n",
       "\n",
       "        quantity  user_id         country  cancel  \n",
       "142        80995  16446.0  United Kingdom   False  \n",
       "343125         1  16446.0  United Kingdom   False  \n",
       "343126         1  16446.0  United Kingdom   False  "
      ]
     },
     "execution_count": 45,
     "metadata": {},
     "output_type": "execute_result"
    }
   ],
   "source": [
    "# Похоже, есть пользователь с нестандартной покупкой. А что ещё он покупал?\n",
    "\n",
    "df[df['user_id'] == 16446]"
   ]
  },
  {
   "cell_type": "code",
   "execution_count": 47,
   "id": "26a357a7-0356-4660-afe8-9a1f04983444",
   "metadata": {},
   "outputs": [],
   "source": [
    "index_to_drop = df[df['quantity']==80995].index\n",
    "df.drop(index=index_to_drop, inplace=True)"
   ]
  },
  {
   "cell_type": "code",
   "execution_count": 48,
   "id": "911f3e6e-ac43-473b-825a-df2189685e4a",
   "metadata": {},
   "outputs": [
    {
     "data": {
      "text/plain": [
       "(527763, 9)"
      ]
     },
     "execution_count": 48,
     "metadata": {},
     "output_type": "execute_result"
    }
   ],
   "source": [
    "df.shape"
   ]
  },
  {
   "cell_type": "code",
   "execution_count": 55,
   "id": "e2d93dd4",
   "metadata": {
    "tags": []
   },
   "outputs": [
    {
     "data": {
      "text/plain": [
       "Timestamp('2018-12-01 00:00:00')"
      ]
     },
     "execution_count": 55,
     "metadata": {},
     "output_type": "execute_result"
    }
   ],
   "source": [
    "# За какой период есть данные?\n",
    "df['date'].min()"
   ]
  },
  {
   "cell_type": "code",
   "execution_count": 57,
   "id": "045ac095-59a7-48bf-9863-ef261cbdb8bb",
   "metadata": {},
   "outputs": [
    {
     "data": {
      "text/plain": [
       "Timestamp('2019-12-09 00:00:00')"
      ]
     },
     "execution_count": 57,
     "metadata": {},
     "output_type": "execute_result"
    }
   ],
   "source": [
    "df['date'].max()"
   ]
  },
  {
   "cell_type": "code",
   "execution_count": 27,
   "id": "f33bd956-f480-4acc-a86a-8d595e446d4b",
   "metadata": {
    "tags": []
   },
   "outputs": [],
   "source": [
    "# Также убедимся, что у нас предеставлены данные за весь период и нет каких-либо пробелов. \n",
    "# Для этого, сгруппируем количество транзакций (предположительно они были каждый день) по дате, и отрисуем график для наглядности.\n"
   ]
  },
  {
   "cell_type": "code",
   "execution_count": null,
   "id": "c409daef-a33f-4ce1-9894-643f6bdf74e7",
   "metadata": {},
   "outputs": [],
   "source": [
    "# Переведем цены из фунтов стерлингов в рубли\n",
    "\n",
    "import requests\n",
    "\n",
    "data = requests.get('https://www.cbr-xml-daily.ru/daily_json.js').json()\n",
    "df['price_rubls'] = df['price'] # type your code here"
   ]
  },
  {
   "cell_type": "markdown",
   "id": "b715bcdb",
   "metadata": {},
   "source": [
    "### Задание 4. Посмотрим какие страны представлены в датасете, выведем топ-15 по количеству записей."
   ]
  },
  {
   "cell_type": "markdown",
   "id": "1d5b12a6",
   "metadata": {},
   "source": [
    "Какие наблюдения по датасету?\n",
    "\n",
    "Предлагаю сагрегировать датасет следующим образом: \n",
    "\n",
    "**Средний чек**\n",
    "\n",
    "date | transaction_id | выручка с одной транзакции (сумма всех позиций (кол-во товаров (quantity) * цену(price_rubls)), внутри одной транзакции) \n",
    "\n",
    "**ARPU**\n",
    "\n",
    "Аналогичная витрина, только вместо transaction_id берем user_id\n"
   ]
  },
  {
   "cell_type": "code",
   "execution_count": 31,
   "id": "7bbd8f27",
   "metadata": {
    "tags": []
   },
   "outputs": [],
   "source": [
    "# Рассчитываем выручку с одного продукта внутри транзакции (количество продукта умножаем на цену)\n",
    "df['revenue_per_transaction'] = df['quantity']*df['price']"
   ]
  },
  {
   "cell_type": "markdown",
   "id": "70054b81",
   "metadata": {},
   "source": [
    "Теперь посмотрим топ-15 стран по выручке за весь период. Прикинем, с каким масштабом мы имеем дело, чтобы в дальнейшем рассчитанные средний чек и ARPU соотносились со здравым смыслом."
   ]
  },
  {
   "cell_type": "code",
   "execution_count": 58,
   "id": "39c88034",
   "metadata": {
    "tags": []
   },
   "outputs": [],
   "source": [
    "# type your code here\n",
    "df['revenue_per_transaction']"
   ]
  },
  {
   "cell_type": "code",
   "execution_count": 52,
   "id": "53023172",
   "metadata": {
    "tags": []
   },
   "outputs": [
    {
     "data": {
      "image/png": "[encoded data removed]",
      "text/plain": [
       "<Figure size 1700x1000 with 1 Axes>"
      ]
     },
     "metadata": {},
     "output_type": "display_data"
    }
   ],
   "source": [
    "country_group = df.groupby('country')['revenue_per_transaction'].sum()\n",
    "country_group.head(10)"
   ]
  },
  {
   "cell_type": "code",
   "execution_count": 53,
   "id": "712d2b8d",
   "metadata": {
    "tags": []
   },
   "outputs": [
    {
     "data": {
      "text/html": [
       "<div>\n",
       "<style scoped>\n",
       "    .dataframe tbody tr th:only-of-type {\n",
       "        vertical-align: middle;\n",
       "    }\n",
       "\n",
       "    .dataframe tbody tr th {\n",
       "        vertical-align: top;\n",
       "    }\n",
       "\n",
       "    .dataframe thead th {\n",
       "        text-align: right;\n",
       "    }\n",
       "</style>\n",
       "<table border=\"1\" class=\"dataframe\">\n",
       "  <thead>\n",
       "    <tr style=\"text-align: right;\">\n",
       "      <th></th>\n",
       "      <th>country</th>\n",
       "      <th>revenue_per_transaction</th>\n",
       "    </tr>\n",
       "  </thead>\n",
       "  <tbody>\n",
       "    <tr>\n",
       "      <th>36</th>\n",
       "      <td>United Kingdom</td>\n",
       "      <td>5 900 285 805</td>\n",
       "    </tr>\n",
       "    <tr>\n",
       "      <th>24</th>\n",
       "      <td>Netherlands</td>\n",
       "      <td>246 404 321</td>\n",
       "    </tr>\n",
       "    <tr>\n",
       "      <th>10</th>\n",
       "      <td>EIRE</td>\n",
       "      <td>196 228 183</td>\n",
       "    </tr>\n",
       "    <tr>\n",
       "      <th>14</th>\n",
       "      <td>Germany</td>\n",
       "      <td>157 065 421</td>\n",
       "    </tr>\n",
       "    <tr>\n",
       "      <th>13</th>\n",
       "      <td>France</td>\n",
       "      <td>152 381 338</td>\n",
       "    </tr>\n",
       "    <tr>\n",
       "      <th>0</th>\n",
       "      <td>Australia</td>\n",
       "      <td>114 021 979</td>\n",
       "    </tr>\n",
       "    <tr>\n",
       "      <th>32</th>\n",
       "      <td>Sweden</td>\n",
       "      <td>46 024 580</td>\n",
       "    </tr>\n",
       "    <tr>\n",
       "      <th>33</th>\n",
       "      <td>Switzerland</td>\n",
       "      <td>41 452 725</td>\n",
       "    </tr>\n",
       "    <tr>\n",
       "      <th>20</th>\n",
       "      <td>Japan</td>\n",
       "      <td>33 570 883</td>\n",
       "    </tr>\n",
       "    <tr>\n",
       "      <th>31</th>\n",
       "      <td>Spain</td>\n",
       "      <td>32 181 356</td>\n",
       "    </tr>\n",
       "    <tr>\n",
       "      <th>3</th>\n",
       "      <td>Belgium</td>\n",
       "      <td>31 164 088</td>\n",
       "    </tr>\n",
       "    <tr>\n",
       "      <th>25</th>\n",
       "      <td>Norway</td>\n",
       "      <td>21 599 848</td>\n",
       "    </tr>\n",
       "    <tr>\n",
       "      <th>27</th>\n",
       "      <td>Portugal</td>\n",
       "      <td>20 166 845</td>\n",
       "    </tr>\n",
       "    <tr>\n",
       "      <th>12</th>\n",
       "      <td>Finland</td>\n",
       "      <td>13 853 995</td>\n",
       "    </tr>\n",
       "    <tr>\n",
       "      <th>9</th>\n",
       "      <td>Denmark</td>\n",
       "      <td>11 576 141</td>\n",
       "    </tr>\n",
       "  </tbody>\n",
       "</table>\n",
       "</div>"
      ],
      "text/plain": [
       "           country revenue_per_transaction\n",
       "36  United Kingdom           5 900 285 805\n",
       "24     Netherlands             246 404 321\n",
       "10            EIRE             196 228 183\n",
       "14         Germany             157 065 421\n",
       "13          France             152 381 338\n",
       "0        Australia             114 021 979\n",
       "32          Sweden              46 024 580\n",
       "33     Switzerland              41 452 725\n",
       "20           Japan              33 570 883\n",
       "31           Spain              32 181 356\n",
       "3          Belgium              31 164 088\n",
       "25          Norway              21 599 848\n",
       "27        Portugal              20 166 845\n",
       "12         Finland              13 853 995\n",
       "9          Denmark              11 576 141"
      ]
     },
     "execution_count": 53,
     "metadata": {},
     "output_type": "execute_result"
    }
   ],
   "source": [
    "country_group.sort_values(ascending=False).head(15)"
   ]
  },
  {
   "cell_type": "markdown",
   "id": "6cd6e650",
   "metadata": {},
   "source": [
    "## Средний чек"
   ]
  },
  {
   "cell_type": "markdown",
   "id": "f620ef1b",
   "metadata": {},
   "source": [
    "Мы посчитали выручку для каждого продукта внутри транзакции. Теперь посчитаем итоговую выручку по всем позициям (продуктам) внутри транзакции и сгруппируем по дате. "
   ]
  },
  {
   "cell_type": "code",
   "execution_count": null,
   "id": "f0bb829c-8724-40c6-9f25-d8191ed42f9d",
   "metadata": {},
   "outputs": [],
   "source": [
    "# Для этого группируем по дате и транзакции, агрегируем сумму по посчитанной выручке за продукт\n",
    "group_date_tr = (df.groupby()) #type your code here"
   ]
  },
  {
   "cell_type": "markdown",
   "id": "3d694bf1",
   "metadata": {},
   "source": [
    "Осталось перевести дату в месяц, сгруппировать данные по месяцу и для каждого месяца разделить итоговую сумму на количество транзакций."
   ]
  },
  {
   "cell_type": "code",
   "execution_count": 33,
   "id": "4d4f38f9",
   "metadata": {
    "tags": []
   },
   "outputs": [],
   "source": [
    "# Переводим дату в месяц\n"
   ]
  },
  {
   "cell_type": "code",
   "execution_count": 34,
   "id": "f4bac9ec",
   "metadata": {
    "tags": []
   },
   "outputs": [],
   "source": [
    "# Группируем по месяцу, рассчитываем количество уникальных транзакций и сумму по всем транзакциям\n"
   ]
  },
  {
   "cell_type": "code",
   "execution_count": 35,
   "id": "a88e926a",
   "metadata": {
    "tags": []
   },
   "outputs": [],
   "source": [
    "# Переводим количество транзакций в нужный формат - astype(int)\n"
   ]
  },
  {
   "cell_type": "code",
   "execution_count": 36,
   "id": "d41ff581",
   "metadata": {
    "tags": []
   },
   "outputs": [],
   "source": [
    "# Рассчитываем средний чек. Общую сумму делим на количество\n"
   ]
  },
  {
   "cell_type": "code",
   "execution_count": 37,
   "id": "d4d8f30d",
   "metadata": {
    "tags": []
   },
   "outputs": [],
   "source": [
    "# Представим на графике в динамике по месяцам\n"
   ]
  },
  {
   "cell_type": "code",
   "execution_count": 66,
   "id": "1e3cad4d",
   "metadata": {
    "tags": []
   },
   "outputs": [
    {
     "data": {
      "application/vnd.plotly.v1+json": {
       "config": {
        "plotlyServerURL": "https://plot.ly"
       },
       "data": [
        {
         "alignmentgroup": "True",
         "hovertemplate": "month=%{x}<br>average_check=%{marker.color}<extra></extra>",
         "legendgroup": "",
         "marker": {
          "color": [
           483038,
           348474,
           349310,
           332851,
           314005,
           337086,
           362322,
           406357,
           417536,
           413384,
           327016,
           286669
          ],
          "coloraxis": "coloraxis",
          "pattern": {
           "shape": ""
          }
         },
         "name": "",
         "offsetgroup": "",
         "orientation": "v",
         "showlegend": false,
         "textposition": "auto",
         "type": "bar",
         "x": [
          1,
          2,
          3,
          4,
          5,
          6,
          7,
          8,
          9,
          10,
          11,
          12
         ],
         "xaxis": "x",
         "y": [
          483038,
          348474,
          349310,
          332851,
          314005,
          337086,
          362322,
          406357,
          417536,
          413384,
          327016,
          286669
         ],
         "yaxis": "y"
        }
       ],
       "layout": {
        "autosize": true,
        "barmode": "relative",
        "coloraxis": {
         "colorbar": {
          "title": {
           "text": "average_check"
          }
         },
         "colorscale": [
          [
           0,
           "#0d0887"
          ],
          [
           0.1111111111111111,
           "#46039f"
          ],
          [
           0.2222222222222222,
           "#7201a8"
          ],
          [
           0.3333333333333333,
           "#9c179e"
          ],
          [
           0.4444444444444444,
           "#bd3786"
          ],
          [
           0.5555555555555556,
           "#d8576b"
          ],
          [
           0.6666666666666666,
           "#ed7953"
          ],
          [
           0.7777777777777778,
           "#fb9f3a"
          ],
          [
           0.8888888888888888,
           "#fdca26"
          ],
          [
           1,
           "#f0f921"
          ]
         ]
        },
        "legend": {
         "tracegroupgap": 0
        },
        "template": {
         "data": {
          "bar": [
           {
            "error_x": {
             "color": "#2a3f5f"
            },
            "error_y": {
             "color": "#2a3f5f"
            },
            "marker": {
             "line": {
              "color": "#E5ECF6",
              "width": 0.5
             },
             "pattern": {
              "fillmode": "overlay",
              "size": 10,
              "solidity": 0.2
             }
            },
            "type": "bar"
           }
          ],
          "barpolar": [
           {
            "marker": {
             "line": {
              "color": "#E5ECF6",
              "width": 0.5
             },
             "pattern": {
              "fillmode": "overlay",
              "size": 10,
              "solidity": 0.2
             }
            },
            "type": "barpolar"
           }
          ],
          "carpet": [
           {
            "aaxis": {
             "endlinecolor": "#2a3f5f",
             "gridcolor": "white",
             "linecolor": "white",
             "minorgridcolor": "white",
             "startlinecolor": "#2a3f5f"
            },
            "baxis": {
             "endlinecolor": "#2a3f5f",
             "gridcolor": "white",
             "linecolor": "white",
             "minorgridcolor": "white",
             "startlinecolor": "#2a3f5f"
            },
            "type": "carpet"
           }
          ],
          "choropleth": [
           {
            "colorbar": {
             "outlinewidth": 0,
             "ticks": ""
            },
            "type": "choropleth"
           }
          ],
          "contour": [
           {
            "colorbar": {
             "outlinewidth": 0,
             "ticks": ""
            },
            "colorscale": [
             [
              0,
              "#0d0887"
             ],
             [
              0.1111111111111111,
              "#46039f"
             ],
             [
              0.2222222222222222,
              "#7201a8"
             ],
             [
              0.3333333333333333,
              "#9c179e"
             ],
             [
              0.4444444444444444,
              "#bd3786"
             ],
             [
              0.5555555555555556,
              "#d8576b"
             ],
             [
              0.6666666666666666,
              "#ed7953"
             ],
             [
              0.7777777777777778,
              "#fb9f3a"
             ],
             [
              0.8888888888888888,
              "#fdca26"
             ],
             [
              1,
              "#f0f921"
             ]
            ],
            "type": "contour"
           }
          ],
          "contourcarpet": [
           {
            "colorbar": {
             "outlinewidth": 0,
             "ticks": ""
            },
            "type": "contourcarpet"
           }
          ],
          "heatmap": [
           {
            "colorbar": {
             "outlinewidth": 0,
             "ticks": ""
            },
            "colorscale": [
             [
              0,
              "#0d0887"
             ],
             [
              0.1111111111111111,
              "#46039f"
             ],
             [
              0.2222222222222222,
              "#7201a8"
             ],
             [
              0.3333333333333333,
              "#9c179e"
             ],
             [
              0.4444444444444444,
              "#bd3786"
             ],
             [
              0.5555555555555556,
              "#d8576b"
             ],
             [
              0.6666666666666666,
              "#ed7953"
             ],
             [
              0.7777777777777778,
              "#fb9f3a"
             ],
             [
              0.8888888888888888,
              "#fdca26"
             ],
             [
              1,
              "#f0f921"
             ]
            ],
            "type": "heatmap"
           }
          ],
          "heatmapgl": [
           {
            "colorbar": {
             "outlinewidth": 0,
             "ticks": ""
            },
            "colorscale": [
             [
              0,
              "#0d0887"
             ],
             [
              0.1111111111111111,
              "#46039f"
             ],
             [
              0.2222222222222222,
              "#7201a8"
             ],
             [
              0.3333333333333333,
              "#9c179e"
             ],
             [
              0.4444444444444444,
              "#bd3786"
             ],
             [
              0.5555555555555556,
              "#d8576b"
             ],
             [
              0.6666666666666666,
              "#ed7953"
             ],
             [
              0.7777777777777778,
              "#fb9f3a"
             ],
             [
              0.8888888888888888,
              "#fdca26"
             ],
             [
              1,
              "#f0f921"
             ]
            ],
            "type": "heatmapgl"
           }
          ],
          "histogram": [
           {
            "marker": {
             "pattern": {
              "fillmode": "overlay",
              "size": 10,
              "solidity": 0.2
             }
            },
            "type": "histogram"
           }
          ],
          "histogram2d": [
           {
            "colorbar": {
             "outlinewidth": 0,
             "ticks": ""
            },
            "colorscale": [
             [
              0,
              "#0d0887"
             ],
             [
              0.1111111111111111,
              "#46039f"
             ],
             [
              0.2222222222222222,
              "#7201a8"
             ],
             [
              0.3333333333333333,
              "#9c179e"
             ],
             [
              0.4444444444444444,
              "#bd3786"
             ],
             [
              0.5555555555555556,
              "#d8576b"
             ],
             [
              0.6666666666666666,
              "#ed7953"
             ],
             [
              0.7777777777777778,
              "#fb9f3a"
             ],
             [
              0.8888888888888888,
              "#fdca26"
             ],
             [
              1,
              "#f0f921"
             ]
            ],
            "type": "histogram2d"
           }
          ],
          "histogram2dcontour": [
           {
            "colorbar": {
             "outlinewidth": 0,
             "ticks": ""
            },
            "colorscale": [
             [
              0,
              "#0d0887"
             ],
             [
              0.1111111111111111,
              "#46039f"
             ],
             [
              0.2222222222222222,
              "#7201a8"
             ],
             [
              0.3333333333333333,
              "#9c179e"
             ],
             [
              0.4444444444444444,
              "#bd3786"
             ],
             [
              0.5555555555555556,
              "#d8576b"
             ],
             [
              0.6666666666666666,
              "#ed7953"
             ],
             [
              0.7777777777777778,
              "#fb9f3a"
             ],
             [
              0.8888888888888888,
              "#fdca26"
             ],
             [
              1,
              "#f0f921"
             ]
            ],
            "type": "histogram2dcontour"
           }
          ],
          "mesh3d": [
           {
            "colorbar": {
             "outlinewidth": 0,
             "ticks": ""
            },
            "type": "mesh3d"
           }
          ],
          "parcoords": [
           {
            "line": {
             "colorbar": {
              "outlinewidth": 0,
              "ticks": ""
             }
            },
            "type": "parcoords"
           }
          ],
          "pie": [
           {
            "automargin": true,
            "type": "pie"
           }
          ],
          "scatter": [
           {
            "fillpattern": {
             "fillmode": "overlay",
             "size": 10,
             "solidity": 0.2
            },
            "type": "scatter"
           }
          ],
          "scatter3d": [
           {
            "line": {
             "colorbar": {
              "outlinewidth": 0,
              "ticks": ""
             }
            },
            "marker": {
             "colorbar": {
              "outlinewidth": 0,
              "ticks": ""
             }
            },
            "type": "scatter3d"
           }
          ],
          "scattercarpet": [
           {
            "marker": {
             "colorbar": {
              "outlinewidth": 0,
              "ticks": ""
             }
            },
            "type": "scattercarpet"
           }
          ],
          "scattergeo": [
           {
            "marker": {
             "colorbar": {
              "outlinewidth": 0,
              "ticks": ""
             }
            },
            "type": "scattergeo"
           }
          ],
          "scattergl": [
           {
            "marker": {
             "colorbar": {
              "outlinewidth": 0,
              "ticks": ""
             }
            },
            "type": "scattergl"
           }
          ],
          "scattermapbox": [
           {
            "marker": {
             "colorbar": {
              "outlinewidth": 0,
              "ticks": ""
             }
            },
            "type": "scattermapbox"
           }
          ],
          "scatterpolar": [
           {
            "marker": {
             "colorbar": {
              "outlinewidth": 0,
              "ticks": ""
             }
            },
            "type": "scatterpolar"
           }
          ],
          "scatterpolargl": [
           {
            "marker": {
             "colorbar": {
              "outlinewidth": 0,
              "ticks": ""
             }
            },
            "type": "scatterpolargl"
           }
          ],
          "scatterternary": [
           {
            "marker": {
             "colorbar": {
              "outlinewidth": 0,
              "ticks": ""
             }
            },
            "type": "scatterternary"
           }
          ],
          "surface": [
           {
            "colorbar": {
             "outlinewidth": 0,
             "ticks": ""
            },
            "colorscale": [
             [
              0,
              "#0d0887"
             ],
             [
              0.1111111111111111,
              "#46039f"
             ],
             [
              0.2222222222222222,
              "#7201a8"
             ],
             [
              0.3333333333333333,
              "#9c179e"
             ],
             [
              0.4444444444444444,
              "#bd3786"
             ],
             [
              0.5555555555555556,
              "#d8576b"
             ],
             [
              0.6666666666666666,
              "#ed7953"
             ],
             [
              0.7777777777777778,
              "#fb9f3a"
             ],
             [
              0.8888888888888888,
              "#fdca26"
             ],
             [
              1,
              "#f0f921"
             ]
            ],
            "type": "surface"
           }
          ],
          "table": [
           {
            "cells": {
             "fill": {
              "color": "#EBF0F8"
             },
             "line": {
              "color": "white"
             }
            },
            "header": {
             "fill": {
              "color": "#C8D4E3"
             },
             "line": {
              "color": "white"
             }
            },
            "type": "table"
           }
          ]
         },
         "layout": {
          "annotationdefaults": {
           "arrowcolor": "#2a3f5f",
           "arrowhead": 0,
           "arrowwidth": 1
          },
          "autotypenumbers": "strict",
          "coloraxis": {
           "colorbar": {
            "outlinewidth": 0,
            "ticks": ""
           }
          },
          "colorscale": {
           "diverging": [
            [
             0,
             "#8e0152"
            ],
            [
             0.1,
             "#c51b7d"
            ],
            [
             0.2,
             "#de77ae"
            ],
            [
             0.3,
             "#f1b6da"
            ],
            [
             0.4,
             "#fde0ef"
            ],
            [
             0.5,
             "#f7f7f7"
            ],
            [
             0.6,
             "#e6f5d0"
            ],
            [
             0.7,
             "#b8e186"
            ],
            [
             0.8,
             "#7fbc41"
            ],
            [
             0.9,
             "#4d9221"
            ],
            [
             1,
             "#276419"
            ]
           ],
           "sequential": [
            [
             0,
             "#0d0887"
            ],
            [
             0.1111111111111111,
             "#46039f"
            ],
            [
             0.2222222222222222,
             "#7201a8"
            ],
            [
             0.3333333333333333,
             "#9c179e"
            ],
            [
             0.4444444444444444,
             "#bd3786"
            ],
            [
             0.5555555555555556,
             "#d8576b"
            ],
            [
             0.6666666666666666,
             "#ed7953"
            ],
            [
             0.7777777777777778,
             "#fb9f3a"
            ],
            [
             0.8888888888888888,
             "#fdca26"
            ],
            [
             1,
             "#f0f921"
            ]
           ],
           "sequentialminus": [
            [
             0,
             "#0d0887"
            ],
            [
             0.1111111111111111,
             "#46039f"
            ],
            [
             0.2222222222222222,
             "#7201a8"
            ],
            [
             0.3333333333333333,
             "#9c179e"
            ],
            [
             0.4444444444444444,
             "#bd3786"
            ],
            [
             0.5555555555555556,
             "#d8576b"
            ],
            [
             0.6666666666666666,
             "#ed7953"
            ],
            [
             0.7777777777777778,
             "#fb9f3a"
            ],
            [
             0.8888888888888888,
             "#fdca26"
            ],
            [
             1,
             "#f0f921"
            ]
           ]
          },
          "colorway": [
           "#636efa",
           "#EF553B",
           "#00cc96",
           "#ab63fa",
           "#FFA15A",
           "#19d3f3",
           "#FF6692",
           "#B6E880",
           "#FF97FF",
           "#FECB52"
          ],
          "font": {
           "color": "#2a3f5f"
          },
          "geo": {
           "bgcolor": "white",
           "lakecolor": "white",
           "landcolor": "#E5ECF6",
           "showlakes": true,
           "showland": true,
           "subunitcolor": "white"
          },
          "hoverlabel": {
           "align": "left"
          },
          "hovermode": "closest",
          "mapbox": {
           "style": "light"
          },
          "paper_bgcolor": "white",
          "plot_bgcolor": "#E5ECF6",
          "polar": {
           "angularaxis": {
            "gridcolor": "white",
            "linecolor": "white",
            "ticks": ""
           },
           "bgcolor": "#E5ECF6",
           "radialaxis": {
            "gridcolor": "white",
            "linecolor": "white",
            "ticks": ""
           }
          },
          "scene": {
           "xaxis": {
            "backgroundcolor": "#E5ECF6",
            "gridcolor": "white",
            "gridwidth": 2,
            "linecolor": "white",
            "showbackground": true,
            "ticks": "",
            "zerolinecolor": "white"
           },
           "yaxis": {
            "backgroundcolor": "#E5ECF6",
            "gridcolor": "white",
            "gridwidth": 2,
            "linecolor": "white",
            "showbackground": true,
            "ticks": "",
            "zerolinecolor": "white"
           },
           "zaxis": {
            "backgroundcolor": "#E5ECF6",
            "gridcolor": "white",
            "gridwidth": 2,
            "linecolor": "white",
            "showbackground": true,
            "ticks": "",
            "zerolinecolor": "white"
           }
          },
          "shapedefaults": {
           "line": {
            "color": "#2a3f5f"
           }
          },
          "ternary": {
           "aaxis": {
            "gridcolor": "white",
            "linecolor": "white",
            "ticks": ""
           },
           "baxis": {
            "gridcolor": "white",
            "linecolor": "white",
            "ticks": ""
           },
           "bgcolor": "#E5ECF6",
           "caxis": {
            "gridcolor": "white",
            "linecolor": "white",
            "ticks": ""
           }
          },
          "title": {
           "x": 0.05
          },
          "xaxis": {
           "automargin": true,
           "gridcolor": "white",
           "linecolor": "white",
           "ticks": "",
           "title": {
            "standoff": 15
           },
           "zerolinecolor": "white",
           "zerolinewidth": 2
          },
          "yaxis": {
           "automargin": true,
           "gridcolor": "white",
           "linecolor": "white",
           "ticks": "",
           "title": {
            "standoff": 15
           },
           "zerolinecolor": "white",
           "zerolinewidth": 2
          }
         }
        },
        "title": {
         "text": "Средний чек по месяцам"
        },
        "xaxis": {
         "anchor": "y",
         "autorange": true,
         "domain": [
          0,
          1
         ],
         "range": [
          0.5,
          12.5
         ],
         "title": {
          "text": "Месяц"
         },
         "type": "linear"
        },
        "yaxis": {
         "anchor": "x",
         "autorange": true,
         "domain": [
          0,
          1
         ],
         "range": [
          0,
          508461.05263157893
         ],
         "title": {
          "text": "Средний чек"
         },
         "type": "linear"
        }
       }
      },
      "image/png": "[encoded data removed]",
      "text/html": [
       "<div>                            <div id=\"ed8c5ca6-aa20-4fe8-a515-b01d63e65983\" class=\"plotly-graph-div\" style=\"height:525px; width:100%;\"></div>            <script type=\"text/javascript\">                require([\"plotly\"], function(Plotly) {                    window.PLOTLYENV=window.PLOTLYENV || {};                                    if (document.getElementById(\"ed8c5ca6-aa20-4fe8-a515-b01d63e65983\")) {                    Plotly.newPlot(                        \"ed8c5ca6-aa20-4fe8-a515-b01d63e65983\",                        [{\"alignmentgroup\":\"True\",\"hovertemplate\":\"month=%{x}<br>average_check=%{marker.color}<extra></extra>\",\"legendgroup\":\"\",\"marker\":{\"color\":[483038,348474,349310,332851,314005,337086,362322,406357,417536,413384,327016,286669],\"coloraxis\":\"coloraxis\",\"pattern\":{\"shape\":\"\"}},\"name\":\"\",\"offsetgroup\":\"\",\"orientation\":\"v\",\"showlegend\":false,\"textposition\":\"auto\",\"x\":[1,2,3,4,5,6,7,8,9,10,11,12],\"xaxis\":\"x\",\"y\":[483038,348474,349310,332851,314005,337086,362322,406357,417536,413384,327016,286669],\"yaxis\":\"y\",\"type\":\"bar\"}],                        {\"template\":{\"data\":{\"histogram2dcontour\":[{\"type\":\"histogram2dcontour\",\"colorbar\":{\"outlinewidth\":0,\"ticks\":\"\"},\"colorscale\":[[0.0,\"#0d0887\"],[0.1111111111111111,\"#46039f\"],[0.2222222222222222,\"#7201a8\"],[0.3333333333333333,\"#9c179e\"],[0.4444444444444444,\"#bd3786\"],[0.5555555555555556,\"#d8576b\"],[0.6666666666666666,\"#ed7953\"],[0.7777777777777778,\"#fb9f3a\"],[0.8888888888888888,\"#fdca26\"],[1.0,\"#f0f921\"]]}],\"choropleth\":[{\"type\":\"choropleth\",\"colorbar\":{\"outlinewidth\":0,\"ticks\":\"\"}}],\"histogram2d\":[{\"type\":\"histogram2d\",\"colorbar\":{\"outlinewidth\":0,\"ticks\":\"\"},\"colorscale\":[[0.0,\"#0d0887\"],[0.1111111111111111,\"#46039f\"],[0.2222222222222222,\"#7201a8\"],[0.3333333333333333,\"#9c179e\"],[0.4444444444444444,\"#bd3786\"],[0.5555555555555556,\"#d8576b\"],[0.6666666666666666,\"#ed7953\"],[0.7777777777777778,\"#fb9f3a\"],[0.8888888888888888,\"#fdca26\"],[1.0,\"#f0f921\"]]}],\"heatmap\":[{\"type\":\"heatmap\",\"colorbar\":{\"outlinewidth\":0,\"ticks\":\"\"},\"colorscale\":[[0.0,\"#0d0887\"],[0.1111111111111111,\"#46039f\"],[0.2222222222222222,\"#7201a8\"],[0.3333333333333333,\"#9c179e\"],[0.4444444444444444,\"#bd3786\"],[0.5555555555555556,\"#d8576b\"],[0.6666666666666666,\"#ed7953\"],[0.7777777777777778,\"#fb9f3a\"],[0.8888888888888888,\"#fdca26\"],[1.0,\"#f0f921\"]]}],\"heatmapgl\":[{\"type\":\"heatmapgl\",\"colorbar\":{\"outlinewidth\":0,\"ticks\":\"\"},\"colorscale\":[[0.0,\"#0d0887\"],[0.1111111111111111,\"#46039f\"],[0.2222222222222222,\"#7201a8\"],[0.3333333333333333,\"#9c179e\"],[0.4444444444444444,\"#bd3786\"],[0.5555555555555556,\"#d8576b\"],[0.6666666666666666,\"#ed7953\"],[0.7777777777777778,\"#fb9f3a\"],[0.8888888888888888,\"#fdca26\"],[1.0,\"#f0f921\"]]}],\"contourcarpet\":[{\"type\":\"contourcarpet\",\"colorbar\":{\"outlinewidth\":0,\"ticks\":\"\"}}],\"contour\":[{\"type\":\"contour\",\"colorbar\":{\"outlinewidth\":0,\"ticks\":\"\"},\"colorscale\":[[0.0,\"#0d0887\"],[0.1111111111111111,\"#46039f\"],[0.2222222222222222,\"#7201a8\"],[0.3333333333333333,\"#9c179e\"],[0.4444444444444444,\"#bd3786\"],[0.5555555555555556,\"#d8576b\"],[0.6666666666666666,\"#ed7953\"],[0.7777777777777778,\"#fb9f3a\"],[0.8888888888888888,\"#fdca26\"],[1.0,\"#f0f921\"]]}],\"surface\":[{\"type\":\"surface\",\"colorbar\":{\"outlinewidth\":0,\"ticks\":\"\"},\"colorscale\":[[0.0,\"#0d0887\"],[0.1111111111111111,\"#46039f\"],[0.2222222222222222,\"#7201a8\"],[0.3333333333333333,\"#9c179e\"],[0.4444444444444444,\"#bd3786\"],[0.5555555555555556,\"#d8576b\"],[0.6666666666666666,\"#ed7953\"],[0.7777777777777778,\"#fb9f3a\"],[0.8888888888888888,\"#fdca26\"],[1.0,\"#f0f921\"]]}],\"mesh3d\":[{\"type\":\"mesh3d\",\"colorbar\":{\"outlinewidth\":0,\"ticks\":\"\"}}],\"scatter\":[{\"fillpattern\":{\"fillmode\":\"overlay\",\"size\":10,\"solidity\":0.2},\"type\":\"scatter\"}],\"parcoords\":[{\"type\":\"parcoords\",\"line\":{\"colorbar\":{\"outlinewidth\":0,\"ticks\":\"\"}}}],\"scatterpolargl\":[{\"type\":\"scatterpolargl\",\"marker\":{\"colorbar\":{\"outlinewidth\":0,\"ticks\":\"\"}}}],\"bar\":[{\"error_x\":{\"color\":\"#2a3f5f\"},\"error_y\":{\"color\":\"#2a3f5f\"},\"marker\":{\"line\":{\"color\":\"#E5ECF6\",\"width\":0.5},\"pattern\":{\"fillmode\":\"overlay\",\"size\":10,\"solidity\":0.2}},\"type\":\"bar\"}],\"scattergeo\":[{\"type\":\"scattergeo\",\"marker\":{\"colorbar\":{\"outlinewidth\":0,\"ticks\":\"\"}}}],\"scatterpolar\":[{\"type\":\"scatterpolar\",\"marker\":{\"colorbar\":{\"outlinewidth\":0,\"ticks\":\"\"}}}],\"histogram\":[{\"marker\":{\"pattern\":{\"fillmode\":\"overlay\",\"size\":10,\"solidity\":0.2}},\"type\":\"histogram\"}],\"scattergl\":[{\"type\":\"scattergl\",\"marker\":{\"colorbar\":{\"outlinewidth\":0,\"ticks\":\"\"}}}],\"scatter3d\":[{\"type\":\"scatter3d\",\"line\":{\"colorbar\":{\"outlinewidth\":0,\"ticks\":\"\"}},\"marker\":{\"colorbar\":{\"outlinewidth\":0,\"ticks\":\"\"}}}],\"scattermapbox\":[{\"type\":\"scattermapbox\",\"marker\":{\"colorbar\":{\"outlinewidth\":0,\"ticks\":\"\"}}}],\"scatterternary\":[{\"type\":\"scatterternary\",\"marker\":{\"colorbar\":{\"outlinewidth\":0,\"ticks\":\"\"}}}],\"scattercarpet\":[{\"type\":\"scattercarpet\",\"marker\":{\"colorbar\":{\"outlinewidth\":0,\"ticks\":\"\"}}}],\"carpet\":[{\"aaxis\":{\"endlinecolor\":\"#2a3f5f\",\"gridcolor\":\"white\",\"linecolor\":\"white\",\"minorgridcolor\":\"white\",\"startlinecolor\":\"#2a3f5f\"},\"baxis\":{\"endlinecolor\":\"#2a3f5f\",\"gridcolor\":\"white\",\"linecolor\":\"white\",\"minorgridcolor\":\"white\",\"startlinecolor\":\"#2a3f5f\"},\"type\":\"carpet\"}],\"table\":[{\"cells\":{\"fill\":{\"color\":\"#EBF0F8\"},\"line\":{\"color\":\"white\"}},\"header\":{\"fill\":{\"color\":\"#C8D4E3\"},\"line\":{\"color\":\"white\"}},\"type\":\"table\"}],\"barpolar\":[{\"marker\":{\"line\":{\"color\":\"#E5ECF6\",\"width\":0.5},\"pattern\":{\"fillmode\":\"overlay\",\"size\":10,\"solidity\":0.2}},\"type\":\"barpolar\"}],\"pie\":[{\"automargin\":true,\"type\":\"pie\"}]},\"layout\":{\"autotypenumbers\":\"strict\",\"colorway\":[\"#636efa\",\"#EF553B\",\"#00cc96\",\"#ab63fa\",\"#FFA15A\",\"#19d3f3\",\"#FF6692\",\"#B6E880\",\"#FF97FF\",\"#FECB52\"],\"font\":{\"color\":\"#2a3f5f\"},\"hovermode\":\"closest\",\"hoverlabel\":{\"align\":\"left\"},\"paper_bgcolor\":\"white\",\"plot_bgcolor\":\"#E5ECF6\",\"polar\":{\"bgcolor\":\"#E5ECF6\",\"angularaxis\":{\"gridcolor\":\"white\",\"linecolor\":\"white\",\"ticks\":\"\"},\"radialaxis\":{\"gridcolor\":\"white\",\"linecolor\":\"white\",\"ticks\":\"\"}},\"ternary\":{\"bgcolor\":\"#E5ECF6\",\"aaxis\":{\"gridcolor\":\"white\",\"linecolor\":\"white\",\"ticks\":\"\"},\"baxis\":{\"gridcolor\":\"white\",\"linecolor\":\"white\",\"ticks\":\"\"},\"caxis\":{\"gridcolor\":\"white\",\"linecolor\":\"white\",\"ticks\":\"\"}},\"coloraxis\":{\"colorbar\":{\"outlinewidth\":0,\"ticks\":\"\"}},\"colorscale\":{\"sequential\":[[0.0,\"#0d0887\"],[0.1111111111111111,\"#46039f\"],[0.2222222222222222,\"#7201a8\"],[0.3333333333333333,\"#9c179e\"],[0.4444444444444444,\"#bd3786\"],[0.5555555555555556,\"#d8576b\"],[0.6666666666666666,\"#ed7953\"],[0.7777777777777778,\"#fb9f3a\"],[0.8888888888888888,\"#fdca26\"],[1.0,\"#f0f921\"]],\"sequentialminus\":[[0.0,\"#0d0887\"],[0.1111111111111111,\"#46039f\"],[0.2222222222222222,\"#7201a8\"],[0.3333333333333333,\"#9c179e\"],[0.4444444444444444,\"#bd3786\"],[0.5555555555555556,\"#d8576b\"],[0.6666666666666666,\"#ed7953\"],[0.7777777777777778,\"#fb9f3a\"],[0.8888888888888888,\"#fdca26\"],[1.0,\"#f0f921\"]],\"diverging\":[[0,\"#8e0152\"],[0.1,\"#c51b7d\"],[0.2,\"#de77ae\"],[0.3,\"#f1b6da\"],[0.4,\"#fde0ef\"],[0.5,\"#f7f7f7\"],[0.6,\"#e6f5d0\"],[0.7,\"#b8e186\"],[0.8,\"#7fbc41\"],[0.9,\"#4d9221\"],[1,\"#276419\"]]},\"xaxis\":{\"gridcolor\":\"white\",\"linecolor\":\"white\",\"ticks\":\"\",\"title\":{\"standoff\":15},\"zerolinecolor\":\"white\",\"automargin\":true,\"zerolinewidth\":2},\"yaxis\":{\"gridcolor\":\"white\",\"linecolor\":\"white\",\"ticks\":\"\",\"title\":{\"standoff\":15},\"zerolinecolor\":\"white\",\"automargin\":true,\"zerolinewidth\":2},\"scene\":{\"xaxis\":{\"backgroundcolor\":\"#E5ECF6\",\"gridcolor\":\"white\",\"linecolor\":\"white\",\"showbackground\":true,\"ticks\":\"\",\"zerolinecolor\":\"white\",\"gridwidth\":2},\"yaxis\":{\"backgroundcolor\":\"#E5ECF6\",\"gridcolor\":\"white\",\"linecolor\":\"white\",\"showbackground\":true,\"ticks\":\"\",\"zerolinecolor\":\"white\",\"gridwidth\":2},\"zaxis\":{\"backgroundcolor\":\"#E5ECF6\",\"gridcolor\":\"white\",\"linecolor\":\"white\",\"showbackground\":true,\"ticks\":\"\",\"zerolinecolor\":\"white\",\"gridwidth\":2}},\"shapedefaults\":{\"line\":{\"color\":\"#2a3f5f\"}},\"annotationdefaults\":{\"arrowcolor\":\"#2a3f5f\",\"arrowhead\":0,\"arrowwidth\":1},\"geo\":{\"bgcolor\":\"white\",\"landcolor\":\"#E5ECF6\",\"subunitcolor\":\"white\",\"showland\":true,\"showlakes\":true,\"lakecolor\":\"white\"},\"title\":{\"x\":0.05},\"mapbox\":{\"style\":\"light\"}}},\"xaxis\":{\"anchor\":\"y\",\"domain\":[0.0,1.0],\"title\":{\"text\":\"\\u041c\\u0435\\u0441\\u044f\\u0446\"}},\"yaxis\":{\"anchor\":\"x\",\"domain\":[0.0,1.0],\"title\":{\"text\":\"\\u0421\\u0440\\u0435\\u0434\\u043d\\u0438\\u0439 \\u0447\\u0435\\u043a\"}},\"coloraxis\":{\"colorbar\":{\"title\":{\"text\":\"average_check\"}},\"colorscale\":[[0.0,\"#0d0887\"],[0.1111111111111111,\"#46039f\"],[0.2222222222222222,\"#7201a8\"],[0.3333333333333333,\"#9c179e\"],[0.4444444444444444,\"#bd3786\"],[0.5555555555555556,\"#d8576b\"],[0.6666666666666666,\"#ed7953\"],[0.7777777777777778,\"#fb9f3a\"],[0.8888888888888888,\"#fdca26\"],[1.0,\"#f0f921\"]]},\"legend\":{\"tracegroupgap\":0},\"title\":{\"text\":\"\\u0421\\u0440\\u0435\\u0434\\u043d\\u0438\\u0439 \\u0447\\u0435\\u043a \\u043f\\u043e \\u043c\\u0435\\u0441\\u044f\\u0446\\u0430\\u043c\"},\"barmode\":\"relative\"},                        {\"responsive\": true}                    ).then(function(){\n",
       "                            \n",
       "var gd = document.getElementById('ed8c5ca6-aa20-4fe8-a515-b01d63e65983');\n",
       "var x = new MutationObserver(function (mutations, observer) {{\n",
       "        var display = window.getComputedStyle(gd).display;\n",
       "        if (!display || display === 'none') {{\n",
       "            console.log([gd, 'removed!']);\n",
       "            Plotly.purge(gd);\n",
       "            observer.disconnect();\n",
       "        }}\n",
       "}});\n",
       "\n",
       "// Listen for the removal of the full notebook cells\n",
       "var notebookContainer = gd.closest('#notebook-container');\n",
       "if (notebookContainer) {{\n",
       "    x.observe(notebookContainer, {childList: true});\n",
       "}}\n",
       "\n",
       "// Listen for the clearing of the current output cell\n",
       "var outputEl = gd.closest('.output');\n",
       "if (outputEl) {{\n",
       "    x.observe(outputEl, {childList: true});\n",
       "}}\n",
       "\n",
       "                        })                };                });            </script>        </div>"
      ]
     },
     "metadata": {},
     "output_type": "display_data"
    }
   ],
   "source": [
    "fig = px.bar(month_average_cheack, x='month', y='average_check', color='average_check', \n",
    "             title='Средний чек по месяцам')\n",
    "fig.update_xaxes(title='Месяц')\n",
    "fig.update_yaxes(title='Средний чек')\n",
    "fig.show()"
   ]
  },
  {
   "cell_type": "markdown",
   "id": "ffedddad",
   "metadata": {},
   "source": [
    "Когда был самый высокий средний чек?"
   ]
  },
  {
   "cell_type": "markdown",
   "id": "3bb91475",
   "metadata": {},
   "source": [
    "## ARPU"
   ]
  },
  {
   "cell_type": "markdown",
   "id": "c78aac48",
   "metadata": {},
   "source": [
    "Проделываем все то же самое, но с user_id. И в итоге сумму по всем транзакциям делим на количество уникальных пользователей.\n",
    "\n",
    "В датасете представлены только пользователи совершившие покупку, то есть только платящие. И соответвенно в данном случае ARPU=ARPPU"
   ]
  },
  {
   "cell_type": "code",
   "execution_count": null,
   "id": "d049a401",
   "metadata": {},
   "outputs": [],
   "source": [
    "# Повторяем шаги с предыдущего задания\n"
   ]
  },
  {
   "cell_type": "markdown",
   "id": "3d8f8521",
   "metadata": {},
   "source": [
    "Сравним средний чек с ARPU в динамике по месяцам. Для наглядности выведем метрики на одну визуальзацию"
   ]
  },
  {
   "cell_type": "code",
   "execution_count": 57,
   "id": "1d866f7d",
   "metadata": {},
   "outputs": [
    {
     "data": {
      "image/png": "[encoded data removed]",
      "text/plain": [
       "<Figure size 1440x576 with 2 Axes>"
      ]
     },
     "metadata": {},
     "output_type": "display_data"
    }
   ],
   "source": []
  },
  {
   "cell_type": "code",
   "execution_count": 58,
   "id": "1701e383",
   "metadata": {},
   "outputs": [
    {
     "data": {
      "application/vnd.plotly.v1+json": {
       "config": {
        "plotlyServerURL": "https://plot.ly"
       },
       "data": [
        {
         "marker": {
          "color": "#0095a3"
         },
         "name": "Средний чек",
         "type": "bar",
         "x": [
          "2018-12-01",
          "2019-01-01",
          "2019-02-01",
          "2019-03-01",
          "2019-04-01",
          "2019-05-01",
          "2019-06-01",
          "2019-07-01",
          "2019-08-01",
          "2019-09-01",
          "2019-10-01",
          "2019-11-01",
          "2019-12-01"
         ],
         "y": [
          341222,
          505941,
          364957,
          365832,
          348593,
          328849,
          353022,
          379449,
          425563,
          437269,
          432925,
          342447,
          222163
         ]
        },
        {
         "marker": {
          "color": "#fe9f97"
         },
         "name": "ARPU",
         "type": "bar",
         "x": [
          "2018-12-01",
          "2019-01-01",
          "2019-02-01",
          "2019-03-01",
          "2019-04-01",
          "2019-05-01",
          "2019-06-01",
          "2019-07-01",
          "2019-08-01",
          "2019-09-01",
          "2019-10-01",
          "2019-11-01",
          "2019-12-01"
         ],
         "y": [
          516157,
          661333,
          472805,
          488002,
          458968,
          473838,
          489614,
          521248,
          572397,
          599062,
          605310,
          540883,
          278044
         ]
        }
       ],
       "layout": {
        "autosize": true,
        "barmode": "group",
        "template": {
         "data": {
          "bar": [
           {
            "error_x": {
             "color": "#2a3f5f"
            },
            "error_y": {
             "color": "#2a3f5f"
            },
            "marker": {
             "line": {
              "color": "#E5ECF6",
              "width": 0.5
             },
             "pattern": {
              "fillmode": "overlay",
              "size": 10,
              "solidity": 0.2
             }
            },
            "type": "bar"
           }
          ],
          "barpolar": [
           {
            "marker": {
             "line": {
              "color": "#E5ECF6",
              "width": 0.5
             },
             "pattern": {
              "fillmode": "overlay",
              "size": 10,
              "solidity": 0.2
             }
            },
            "type": "barpolar"
           }
          ],
          "carpet": [
           {
            "aaxis": {
             "endlinecolor": "#2a3f5f",
             "gridcolor": "white",
             "linecolor": "white",
             "minorgridcolor": "white",
             "startlinecolor": "#2a3f5f"
            },
            "baxis": {
             "endlinecolor": "#2a3f5f",
             "gridcolor": "white",
             "linecolor": "white",
             "minorgridcolor": "white",
             "startlinecolor": "#2a3f5f"
            },
            "type": "carpet"
           }
          ],
          "choropleth": [
           {
            "colorbar": {
             "outlinewidth": 0,
             "ticks": ""
            },
            "type": "choropleth"
           }
          ],
          "contour": [
           {
            "colorbar": {
             "outlinewidth": 0,
             "ticks": ""
            },
            "colorscale": [
             [
              0,
              "#0d0887"
             ],
             [
              0.1111111111111111,
              "#46039f"
             ],
             [
              0.2222222222222222,
              "#7201a8"
             ],
             [
              0.3333333333333333,
              "#9c179e"
             ],
             [
              0.4444444444444444,
              "#bd3786"
             ],
             [
              0.5555555555555556,
              "#d8576b"
             ],
             [
              0.6666666666666666,
              "#ed7953"
             ],
             [
              0.7777777777777778,
              "#fb9f3a"
             ],
             [
              0.8888888888888888,
              "#fdca26"
             ],
             [
              1,
              "#f0f921"
             ]
            ],
            "type": "contour"
           }
          ],
          "contourcarpet": [
           {
            "colorbar": {
             "outlinewidth": 0,
             "ticks": ""
            },
            "type": "contourcarpet"
           }
          ],
          "heatmap": [
           {
            "colorbar": {
             "outlinewidth": 0,
             "ticks": ""
            },
            "colorscale": [
             [
              0,
              "#0d0887"
             ],
             [
              0.1111111111111111,
              "#46039f"
             ],
             [
              0.2222222222222222,
              "#7201a8"
             ],
             [
              0.3333333333333333,
              "#9c179e"
             ],
             [
              0.4444444444444444,
              "#bd3786"
             ],
             [
              0.5555555555555556,
              "#d8576b"
             ],
             [
              0.6666666666666666,
              "#ed7953"
             ],
             [
              0.7777777777777778,
              "#fb9f3a"
             ],
             [
              0.8888888888888888,
              "#fdca26"
             ],
             [
              1,
              "#f0f921"
             ]
            ],
            "type": "heatmap"
           }
          ],
          "heatmapgl": [
           {
            "colorbar": {
             "outlinewidth": 0,
             "ticks": ""
            },
            "colorscale": [
             [
              0,
              "#0d0887"
             ],
             [
              0.1111111111111111,
              "#46039f"
             ],
             [
              0.2222222222222222,
              "#7201a8"
             ],
             [
              0.3333333333333333,
              "#9c179e"
             ],
             [
              0.4444444444444444,
              "#bd3786"
             ],
             [
              0.5555555555555556,
              "#d8576b"
             ],
             [
              0.6666666666666666,
              "#ed7953"
             ],
             [
              0.7777777777777778,
              "#fb9f3a"
             ],
             [
              0.8888888888888888,
              "#fdca26"
             ],
             [
              1,
              "#f0f921"
             ]
            ],
            "type": "heatmapgl"
           }
          ],
          "histogram": [
           {
            "marker": {
             "pattern": {
              "fillmode": "overlay",
              "size": 10,
              "solidity": 0.2
             }
            },
            "type": "histogram"
           }
          ],
          "histogram2d": [
           {
            "colorbar": {
             "outlinewidth": 0,
             "ticks": ""
            },
            "colorscale": [
             [
              0,
              "#0d0887"
             ],
             [
              0.1111111111111111,
              "#46039f"
             ],
             [
              0.2222222222222222,
              "#7201a8"
             ],
             [
              0.3333333333333333,
              "#9c179e"
             ],
             [
              0.4444444444444444,
              "#bd3786"
             ],
             [
              0.5555555555555556,
              "#d8576b"
             ],
             [
              0.6666666666666666,
              "#ed7953"
             ],
             [
              0.7777777777777778,
              "#fb9f3a"
             ],
             [
              0.8888888888888888,
              "#fdca26"
             ],
             [
              1,
              "#f0f921"
             ]
            ],
            "type": "histogram2d"
           }
          ],
          "histogram2dcontour": [
           {
            "colorbar": {
             "outlinewidth": 0,
             "ticks": ""
            },
            "colorscale": [
             [
              0,
              "#0d0887"
             ],
             [
              0.1111111111111111,
              "#46039f"
             ],
             [
              0.2222222222222222,
              "#7201a8"
             ],
             [
              0.3333333333333333,
              "#9c179e"
             ],
             [
              0.4444444444444444,
              "#bd3786"
             ],
             [
              0.5555555555555556,
              "#d8576b"
             ],
             [
              0.6666666666666666,
              "#ed7953"
             ],
             [
              0.7777777777777778,
              "#fb9f3a"
             ],
             [
              0.8888888888888888,
              "#fdca26"
             ],
             [
              1,
              "#f0f921"
             ]
            ],
            "type": "histogram2dcontour"
           }
          ],
          "mesh3d": [
           {
            "colorbar": {
             "outlinewidth": 0,
             "ticks": ""
            },
            "type": "mesh3d"
           }
          ],
          "parcoords": [
           {
            "line": {
             "colorbar": {
              "outlinewidth": 0,
              "ticks": ""
             }
            },
            "type": "parcoords"
           }
          ],
          "pie": [
           {
            "automargin": true,
            "type": "pie"
           }
          ],
          "scatter": [
           {
            "fillpattern": {
             "fillmode": "overlay",
             "size": 10,
             "solidity": 0.2
            },
            "type": "scatter"
           }
          ],
          "scatter3d": [
           {
            "line": {
             "colorbar": {
              "outlinewidth": 0,
              "ticks": ""
             }
            },
            "marker": {
             "colorbar": {
              "outlinewidth": 0,
              "ticks": ""
             }
            },
            "type": "scatter3d"
           }
          ],
          "scattercarpet": [
           {
            "marker": {
             "colorbar": {
              "outlinewidth": 0,
              "ticks": ""
             }
            },
            "type": "scattercarpet"
           }
          ],
          "scattergeo": [
           {
            "marker": {
             "colorbar": {
              "outlinewidth": 0,
              "ticks": ""
             }
            },
            "type": "scattergeo"
           }
          ],
          "scattergl": [
           {
            "marker": {
             "colorbar": {
              "outlinewidth": 0,
              "ticks": ""
             }
            },
            "type": "scattergl"
           }
          ],
          "scattermapbox": [
           {
            "marker": {
             "colorbar": {
              "outlinewidth": 0,
              "ticks": ""
             }
            },
            "type": "scattermapbox"
           }
          ],
          "scatterpolar": [
           {
            "marker": {
             "colorbar": {
              "outlinewidth": 0,
              "ticks": ""
             }
            },
            "type": "scatterpolar"
           }
          ],
          "scatterpolargl": [
           {
            "marker": {
             "colorbar": {
              "outlinewidth": 0,
              "ticks": ""
             }
            },
            "type": "scatterpolargl"
           }
          ],
          "scatterternary": [
           {
            "marker": {
             "colorbar": {
              "outlinewidth": 0,
              "ticks": ""
             }
            },
            "type": "scatterternary"
           }
          ],
          "surface": [
           {
            "colorbar": {
             "outlinewidth": 0,
             "ticks": ""
            },
            "colorscale": [
             [
              0,
              "#0d0887"
             ],
             [
              0.1111111111111111,
              "#46039f"
             ],
             [
              0.2222222222222222,
              "#7201a8"
             ],
             [
              0.3333333333333333,
              "#9c179e"
             ],
             [
              0.4444444444444444,
              "#bd3786"
             ],
             [
              0.5555555555555556,
              "#d8576b"
             ],
             [
              0.6666666666666666,
              "#ed7953"
             ],
             [
              0.7777777777777778,
              "#fb9f3a"
             ],
             [
              0.8888888888888888,
              "#fdca26"
             ],
             [
              1,
              "#f0f921"
             ]
            ],
            "type": "surface"
           }
          ],
          "table": [
           {
            "cells": {
             "fill": {
              "color": "#EBF0F8"
             },
             "line": {
              "color": "white"
             }
            },
            "header": {
             "fill": {
              "color": "#C8D4E3"
             },
             "line": {
              "color": "white"
             }
            },
            "type": "table"
           }
          ]
         },
         "layout": {
          "annotationdefaults": {
           "arrowcolor": "#2a3f5f",
           "arrowhead": 0,
           "arrowwidth": 1
          },
          "autotypenumbers": "strict",
          "coloraxis": {
           "colorbar": {
            "outlinewidth": 0,
            "ticks": ""
           }
          },
          "colorscale": {
           "diverging": [
            [
             0,
             "#8e0152"
            ],
            [
             0.1,
             "#c51b7d"
            ],
            [
             0.2,
             "#de77ae"
            ],
            [
             0.3,
             "#f1b6da"
            ],
            [
             0.4,
             "#fde0ef"
            ],
            [
             0.5,
             "#f7f7f7"
            ],
            [
             0.6,
             "#e6f5d0"
            ],
            [
             0.7,
             "#b8e186"
            ],
            [
             0.8,
             "#7fbc41"
            ],
            [
             0.9,
             "#4d9221"
            ],
            [
             1,
             "#276419"
            ]
           ],
           "sequential": [
            [
             0,
             "#0d0887"
            ],
            [
             0.1111111111111111,
             "#46039f"
            ],
            [
             0.2222222222222222,
             "#7201a8"
            ],
            [
             0.3333333333333333,
             "#9c179e"
            ],
            [
             0.4444444444444444,
             "#bd3786"
            ],
            [
             0.5555555555555556,
             "#d8576b"
            ],
            [
             0.6666666666666666,
             "#ed7953"
            ],
            [
             0.7777777777777778,
             "#fb9f3a"
            ],
            [
             0.8888888888888888,
             "#fdca26"
            ],
            [
             1,
             "#f0f921"
            ]
           ],
           "sequentialminus": [
            [
             0,
             "#0d0887"
            ],
            [
             0.1111111111111111,
             "#46039f"
            ],
            [
             0.2222222222222222,
             "#7201a8"
            ],
            [
             0.3333333333333333,
             "#9c179e"
            ],
            [
             0.4444444444444444,
             "#bd3786"
            ],
            [
             0.5555555555555556,
             "#d8576b"
            ],
            [
             0.6666666666666666,
             "#ed7953"
            ],
            [
             0.7777777777777778,
             "#fb9f3a"
            ],
            [
             0.8888888888888888,
             "#fdca26"
            ],
            [
             1,
             "#f0f921"
            ]
           ]
          },
          "colorway": [
           "#636efa",
           "#EF553B",
           "#00cc96",
           "#ab63fa",
           "#FFA15A",
           "#19d3f3",
           "#FF6692",
           "#B6E880",
           "#FF97FF",
           "#FECB52"
          ],
          "font": {
           "color": "#2a3f5f"
          },
          "geo": {
           "bgcolor": "white",
           "lakecolor": "white",
           "landcolor": "#E5ECF6",
           "showlakes": true,
           "showland": true,
           "subunitcolor": "white"
          },
          "hoverlabel": {
           "align": "left"
          },
          "hovermode": "closest",
          "mapbox": {
           "style": "light"
          },
          "paper_bgcolor": "white",
          "plot_bgcolor": "#E5ECF6",
          "polar": {
           "angularaxis": {
            "gridcolor": "white",
            "linecolor": "white",
            "ticks": ""
           },
           "bgcolor": "#E5ECF6",
           "radialaxis": {
            "gridcolor": "white",
            "linecolor": "white",
            "ticks": ""
           }
          },
          "scene": {
           "xaxis": {
            "backgroundcolor": "#E5ECF6",
            "gridcolor": "white",
            "gridwidth": 2,
            "linecolor": "white",
            "showbackground": true,
            "ticks": "",
            "zerolinecolor": "white"
           },
           "yaxis": {
            "backgroundcolor": "#E5ECF6",
            "gridcolor": "white",
            "gridwidth": 2,
            "linecolor": "white",
            "showbackground": true,
            "ticks": "",
            "zerolinecolor": "white"
           },
           "zaxis": {
            "backgroundcolor": "#E5ECF6",
            "gridcolor": "white",
            "gridwidth": 2,
            "linecolor": "white",
            "showbackground": true,
            "ticks": "",
            "zerolinecolor": "white"
           }
          },
          "shapedefaults": {
           "line": {
            "color": "#2a3f5f"
           }
          },
          "ternary": {
           "aaxis": {
            "gridcolor": "white",
            "linecolor": "white",
            "ticks": ""
           },
           "baxis": {
            "gridcolor": "white",
            "linecolor": "white",
            "ticks": ""
           },
           "bgcolor": "#E5ECF6",
           "caxis": {
            "gridcolor": "white",
            "linecolor": "white",
            "ticks": ""
           }
          },
          "title": {
           "x": 0.05
          },
          "xaxis": {
           "automargin": true,
           "gridcolor": "white",
           "linecolor": "white",
           "ticks": "",
           "title": {
            "standoff": 15
           },
           "zerolinecolor": "white",
           "zerolinewidth": 2
          },
          "yaxis": {
           "automargin": true,
           "gridcolor": "white",
           "linecolor": "white",
           "ticks": "",
           "title": {
            "standoff": 15
           },
           "zerolinecolor": "white",
           "zerolinewidth": 2
          }
         }
        },
        "xaxis": {
         "autorange": true,
         "range": [
          "2018-11-17",
          "2019-12-15"
         ],
         "type": "date"
        },
        "yaxis": {
         "autorange": true,
         "range": [
          0,
          696140
         ],
         "type": "linear"
        }
       }
      },
      "image/png": "[encoded data removed]",
      "text/html": [
       "<div>                            <div id=\"8149c31b-fc28-4e27-a43d-7ecbff9d7268\" class=\"plotly-graph-div\" style=\"height:525px; width:100%;\"></div>            <script type=\"text/javascript\">                require([\"plotly\"], function(Plotly) {                    window.PLOTLYENV=window.PLOTLYENV || {};                                    if (document.getElementById(\"8149c31b-fc28-4e27-a43d-7ecbff9d7268\")) {                    Plotly.newPlot(                        \"8149c31b-fc28-4e27-a43d-7ecbff9d7268\",                        [{\"marker\":{\"color\":\"#0095a3\"},\"name\":\"Средний чек\",\"x\":[\"2018-12-01\",\"2019-01-01\",\"2019-02-01\",\"2019-03-01\",\"2019-04-01\",\"2019-05-01\",\"2019-06-01\",\"2019-07-01\",\"2019-08-01\",\"2019-09-01\",\"2019-10-01\",\"2019-11-01\",\"2019-12-01\"],\"y\":[341222,505941,364957,365832,348593,328849,353022,379449,425563,437269,432925,342447,222163],\"type\":\"bar\"},{\"marker\":{\"color\":\"#fe9f97\"},\"name\":\"ARPU\",\"x\":[\"2018-12-01\",\"2019-01-01\",\"2019-02-01\",\"2019-03-01\",\"2019-04-01\",\"2019-05-01\",\"2019-06-01\",\"2019-07-01\",\"2019-08-01\",\"2019-09-01\",\"2019-10-01\",\"2019-11-01\",\"2019-12-01\"],\"y\":[516157,661333,472805,488002,458968,473838,489614,521248,572397,599062,605310,540883,278044],\"type\":\"bar\"}],                        {\"template\":{\"data\":{\"histogram2dcontour\":[{\"type\":\"histogram2dcontour\",\"colorbar\":{\"outlinewidth\":0,\"ticks\":\"\"},\"colorscale\":[[0.0,\"#0d0887\"],[0.1111111111111111,\"#46039f\"],[0.2222222222222222,\"#7201a8\"],[0.3333333333333333,\"#9c179e\"],[0.4444444444444444,\"#bd3786\"],[0.5555555555555556,\"#d8576b\"],[0.6666666666666666,\"#ed7953\"],[0.7777777777777778,\"#fb9f3a\"],[0.8888888888888888,\"#fdca26\"],[1.0,\"#f0f921\"]]}],\"choropleth\":[{\"type\":\"choropleth\",\"colorbar\":{\"outlinewidth\":0,\"ticks\":\"\"}}],\"histogram2d\":[{\"type\":\"histogram2d\",\"colorbar\":{\"outlinewidth\":0,\"ticks\":\"\"},\"colorscale\":[[0.0,\"#0d0887\"],[0.1111111111111111,\"#46039f\"],[0.2222222222222222,\"#7201a8\"],[0.3333333333333333,\"#9c179e\"],[0.4444444444444444,\"#bd3786\"],[0.5555555555555556,\"#d8576b\"],[0.6666666666666666,\"#ed7953\"],[0.7777777777777778,\"#fb9f3a\"],[0.8888888888888888,\"#fdca26\"],[1.0,\"#f0f921\"]]}],\"heatmap\":[{\"type\":\"heatmap\",\"colorbar\":{\"outlinewidth\":0,\"ticks\":\"\"},\"colorscale\":[[0.0,\"#0d0887\"],[0.1111111111111111,\"#46039f\"],[0.2222222222222222,\"#7201a8\"],[0.3333333333333333,\"#9c179e\"],[0.4444444444444444,\"#bd3786\"],[0.5555555555555556,\"#d8576b\"],[0.6666666666666666,\"#ed7953\"],[0.7777777777777778,\"#fb9f3a\"],[0.8888888888888888,\"#fdca26\"],[1.0,\"#f0f921\"]]}],\"heatmapgl\":[{\"type\":\"heatmapgl\",\"colorbar\":{\"outlinewidth\":0,\"ticks\":\"\"},\"colorscale\":[[0.0,\"#0d0887\"],[0.1111111111111111,\"#46039f\"],[0.2222222222222222,\"#7201a8\"],[0.3333333333333333,\"#9c179e\"],[0.4444444444444444,\"#bd3786\"],[0.5555555555555556,\"#d8576b\"],[0.6666666666666666,\"#ed7953\"],[0.7777777777777778,\"#fb9f3a\"],[0.8888888888888888,\"#fdca26\"],[1.0,\"#f0f921\"]]}],\"contourcarpet\":[{\"type\":\"contourcarpet\",\"colorbar\":{\"outlinewidth\":0,\"ticks\":\"\"}}],\"contour\":[{\"type\":\"contour\",\"colorbar\":{\"outlinewidth\":0,\"ticks\":\"\"},\"colorscale\":[[0.0,\"#0d0887\"],[0.1111111111111111,\"#46039f\"],[0.2222222222222222,\"#7201a8\"],[0.3333333333333333,\"#9c179e\"],[0.4444444444444444,\"#bd3786\"],[0.5555555555555556,\"#d8576b\"],[0.6666666666666666,\"#ed7953\"],[0.7777777777777778,\"#fb9f3a\"],[0.8888888888888888,\"#fdca26\"],[1.0,\"#f0f921\"]]}],\"surface\":[{\"type\":\"surface\",\"colorbar\":{\"outlinewidth\":0,\"ticks\":\"\"},\"colorscale\":[[0.0,\"#0d0887\"],[0.1111111111111111,\"#46039f\"],[0.2222222222222222,\"#7201a8\"],[0.3333333333333333,\"#9c179e\"],[0.4444444444444444,\"#bd3786\"],[0.5555555555555556,\"#d8576b\"],[0.6666666666666666,\"#ed7953\"],[0.7777777777777778,\"#fb9f3a\"],[0.8888888888888888,\"#fdca26\"],[1.0,\"#f0f921\"]]}],\"mesh3d\":[{\"type\":\"mesh3d\",\"colorbar\":{\"outlinewidth\":0,\"ticks\":\"\"}}],\"scatter\":[{\"fillpattern\":{\"fillmode\":\"overlay\",\"size\":10,\"solidity\":0.2},\"type\":\"scatter\"}],\"parcoords\":[{\"type\":\"parcoords\",\"line\":{\"colorbar\":{\"outlinewidth\":0,\"ticks\":\"\"}}}],\"scatterpolargl\":[{\"type\":\"scatterpolargl\",\"marker\":{\"colorbar\":{\"outlinewidth\":0,\"ticks\":\"\"}}}],\"bar\":[{\"error_x\":{\"color\":\"#2a3f5f\"},\"error_y\":{\"color\":\"#2a3f5f\"},\"marker\":{\"line\":{\"color\":\"#E5ECF6\",\"width\":0.5},\"pattern\":{\"fillmode\":\"overlay\",\"size\":10,\"solidity\":0.2}},\"type\":\"bar\"}],\"scattergeo\":[{\"type\":\"scattergeo\",\"marker\":{\"colorbar\":{\"outlinewidth\":0,\"ticks\":\"\"}}}],\"scatterpolar\":[{\"type\":\"scatterpolar\",\"marker\":{\"colorbar\":{\"outlinewidth\":0,\"ticks\":\"\"}}}],\"histogram\":[{\"marker\":{\"pattern\":{\"fillmode\":\"overlay\",\"size\":10,\"solidity\":0.2}},\"type\":\"histogram\"}],\"scattergl\":[{\"type\":\"scattergl\",\"marker\":{\"colorbar\":{\"outlinewidth\":0,\"ticks\":\"\"}}}],\"scatter3d\":[{\"type\":\"scatter3d\",\"line\":{\"colorbar\":{\"outlinewidth\":0,\"ticks\":\"\"}},\"marker\":{\"colorbar\":{\"outlinewidth\":0,\"ticks\":\"\"}}}],\"scattermapbox\":[{\"type\":\"scattermapbox\",\"marker\":{\"colorbar\":{\"outlinewidth\":0,\"ticks\":\"\"}}}],\"scatterternary\":[{\"type\":\"scatterternary\",\"marker\":{\"colorbar\":{\"outlinewidth\":0,\"ticks\":\"\"}}}],\"scattercarpet\":[{\"type\":\"scattercarpet\",\"marker\":{\"colorbar\":{\"outlinewidth\":0,\"ticks\":\"\"}}}],\"carpet\":[{\"aaxis\":{\"endlinecolor\":\"#2a3f5f\",\"gridcolor\":\"white\",\"linecolor\":\"white\",\"minorgridcolor\":\"white\",\"startlinecolor\":\"#2a3f5f\"},\"baxis\":{\"endlinecolor\":\"#2a3f5f\",\"gridcolor\":\"white\",\"linecolor\":\"white\",\"minorgridcolor\":\"white\",\"startlinecolor\":\"#2a3f5f\"},\"type\":\"carpet\"}],\"table\":[{\"cells\":{\"fill\":{\"color\":\"#EBF0F8\"},\"line\":{\"color\":\"white\"}},\"header\":{\"fill\":{\"color\":\"#C8D4E3\"},\"line\":{\"color\":\"white\"}},\"type\":\"table\"}],\"barpolar\":[{\"marker\":{\"line\":{\"color\":\"#E5ECF6\",\"width\":0.5},\"pattern\":{\"fillmode\":\"overlay\",\"size\":10,\"solidity\":0.2}},\"type\":\"barpolar\"}],\"pie\":[{\"automargin\":true,\"type\":\"pie\"}]},\"layout\":{\"autotypenumbers\":\"strict\",\"colorway\":[\"#636efa\",\"#EF553B\",\"#00cc96\",\"#ab63fa\",\"#FFA15A\",\"#19d3f3\",\"#FF6692\",\"#B6E880\",\"#FF97FF\",\"#FECB52\"],\"font\":{\"color\":\"#2a3f5f\"},\"hovermode\":\"closest\",\"hoverlabel\":{\"align\":\"left\"},\"paper_bgcolor\":\"white\",\"plot_bgcolor\":\"#E5ECF6\",\"polar\":{\"bgcolor\":\"#E5ECF6\",\"angularaxis\":{\"gridcolor\":\"white\",\"linecolor\":\"white\",\"ticks\":\"\"},\"radialaxis\":{\"gridcolor\":\"white\",\"linecolor\":\"white\",\"ticks\":\"\"}},\"ternary\":{\"bgcolor\":\"#E5ECF6\",\"aaxis\":{\"gridcolor\":\"white\",\"linecolor\":\"white\",\"ticks\":\"\"},\"baxis\":{\"gridcolor\":\"white\",\"linecolor\":\"white\",\"ticks\":\"\"},\"caxis\":{\"gridcolor\":\"white\",\"linecolor\":\"white\",\"ticks\":\"\"}},\"coloraxis\":{\"colorbar\":{\"outlinewidth\":0,\"ticks\":\"\"}},\"colorscale\":{\"sequential\":[[0.0,\"#0d0887\"],[0.1111111111111111,\"#46039f\"],[0.2222222222222222,\"#7201a8\"],[0.3333333333333333,\"#9c179e\"],[0.4444444444444444,\"#bd3786\"],[0.5555555555555556,\"#d8576b\"],[0.6666666666666666,\"#ed7953\"],[0.7777777777777778,\"#fb9f3a\"],[0.8888888888888888,\"#fdca26\"],[1.0,\"#f0f921\"]],\"sequentialminus\":[[0.0,\"#0d0887\"],[0.1111111111111111,\"#46039f\"],[0.2222222222222222,\"#7201a8\"],[0.3333333333333333,\"#9c179e\"],[0.4444444444444444,\"#bd3786\"],[0.5555555555555556,\"#d8576b\"],[0.6666666666666666,\"#ed7953\"],[0.7777777777777778,\"#fb9f3a\"],[0.8888888888888888,\"#fdca26\"],[1.0,\"#f0f921\"]],\"diverging\":[[0,\"#8e0152\"],[0.1,\"#c51b7d\"],[0.2,\"#de77ae\"],[0.3,\"#f1b6da\"],[0.4,\"#fde0ef\"],[0.5,\"#f7f7f7\"],[0.6,\"#e6f5d0\"],[0.7,\"#b8e186\"],[0.8,\"#7fbc41\"],[0.9,\"#4d9221\"],[1,\"#276419\"]]},\"xaxis\":{\"gridcolor\":\"white\",\"linecolor\":\"white\",\"ticks\":\"\",\"title\":{\"standoff\":15},\"zerolinecolor\":\"white\",\"automargin\":true,\"zerolinewidth\":2},\"yaxis\":{\"gridcolor\":\"white\",\"linecolor\":\"white\",\"ticks\":\"\",\"title\":{\"standoff\":15},\"zerolinecolor\":\"white\",\"automargin\":true,\"zerolinewidth\":2},\"scene\":{\"xaxis\":{\"backgroundcolor\":\"#E5ECF6\",\"gridcolor\":\"white\",\"linecolor\":\"white\",\"showbackground\":true,\"ticks\":\"\",\"zerolinecolor\":\"white\",\"gridwidth\":2},\"yaxis\":{\"backgroundcolor\":\"#E5ECF6\",\"gridcolor\":\"white\",\"linecolor\":\"white\",\"showbackground\":true,\"ticks\":\"\",\"zerolinecolor\":\"white\",\"gridwidth\":2},\"zaxis\":{\"backgroundcolor\":\"#E5ECF6\",\"gridcolor\":\"white\",\"linecolor\":\"white\",\"showbackground\":true,\"ticks\":\"\",\"zerolinecolor\":\"white\",\"gridwidth\":2}},\"shapedefaults\":{\"line\":{\"color\":\"#2a3f5f\"}},\"annotationdefaults\":{\"arrowcolor\":\"#2a3f5f\",\"arrowhead\":0,\"arrowwidth\":1},\"geo\":{\"bgcolor\":\"white\",\"landcolor\":\"#E5ECF6\",\"subunitcolor\":\"white\",\"showland\":true,\"showlakes\":true,\"lakecolor\":\"white\"},\"title\":{\"x\":0.05},\"mapbox\":{\"style\":\"light\"}}},\"barmode\":\"group\"},                        {\"responsive\": true}                    ).then(function(){\n",
       "                            \n",
       "var gd = document.getElementById('8149c31b-fc28-4e27-a43d-7ecbff9d7268');\n",
       "var x = new MutationObserver(function (mutations, observer) {{\n",
       "        var display = window.getComputedStyle(gd).display;\n",
       "        if (!display || display === 'none') {{\n",
       "            console.log([gd, 'removed!']);\n",
       "            Plotly.purge(gd);\n",
       "            observer.disconnect();\n",
       "        }}\n",
       "}});\n",
       "\n",
       "// Listen for the removal of the full notebook cells\n",
       "var notebookContainer = gd.closest('#notebook-container');\n",
       "if (notebookContainer) {{\n",
       "    x.observe(notebookContainer, {childList: true});\n",
       "}}\n",
       "\n",
       "// Listen for the clearing of the current output cell\n",
       "var outputEl = gd.closest('.output');\n",
       "if (outputEl) {{\n",
       "    x.observe(outputEl, {childList: true});\n",
       "}}\n",
       "\n",
       "                        })                };                });            </script>        </div>"
      ]
     },
     "metadata": {},
     "output_type": "display_data"
    }
   ],
   "source": []
  },
  {
   "cell_type": "markdown",
   "id": "99d1d36b",
   "metadata": {},
   "source": [
    "# Какой общий вывод?"
   ]
  }
 ],
 "metadata": {
  "kernelspec": {
   "display_name": "Python 3 (ipykernel)",
   "language": "python",
   "name": "python3"
  },
  "language_info": {
   "codemirror_mode": {
    "name": "ipython",
    "version": 3
   },
   "file_extension": ".py",
   "mimetype": "text/x-python",
   "name": "python",
   "nbconvert_exporter": "python",
   "pygments_lexer": "ipython3",
   "version": "3.11.6"
  }
 },
 "nbformat": 4,
 "nbformat_minor": 5
}
